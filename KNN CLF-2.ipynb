{
 "cells": [
  {
   "cell_type": "code",
   "execution_count": 1,
   "metadata": {},
   "outputs": [],
   "source": [
    "import pandas as pd\n",
    "train_df_10 = pd.read_csv(\"NSLKDD_top_10_TRAIN.csv\")\n",
    "test_df_10 = pd.read_csv(\"NSLKDD_top_10_TEST.csv\")"
   ]
  },
  {
   "cell_type": "code",
   "execution_count": 2,
   "metadata": {},
   "outputs": [
    {
     "data": {
      "text/html": [
       "<div>\n",
       "<style scoped>\n",
       "    .dataframe tbody tr th:only-of-type {\n",
       "        vertical-align: middle;\n",
       "    }\n",
       "\n",
       "    .dataframe tbody tr th {\n",
       "        vertical-align: top;\n",
       "    }\n",
       "\n",
       "    .dataframe thead th {\n",
       "        text-align: right;\n",
       "    }\n",
       "</style>\n",
       "<table border=\"1\" class=\"dataframe\">\n",
       "  <thead>\n",
       "    <tr style=\"text-align: right;\">\n",
       "      <th></th>\n",
       "      <th>same_srv_rate</th>\n",
       "      <th>dst_host_srv_serror_rate</th>\n",
       "      <th>dst_host_serror_rate</th>\n",
       "      <th>serror_rate</th>\n",
       "      <th>srv_serror_rate</th>\n",
       "      <th>dst_host_srv_count</th>\n",
       "      <th>dst_host_same_srv_rate</th>\n",
       "      <th>logged_in</th>\n",
       "      <th>flag</th>\n",
       "      <th>count</th>\n",
       "      <th>attack</th>\n",
       "    </tr>\n",
       "  </thead>\n",
       "  <tbody>\n",
       "    <tr>\n",
       "      <th>0</th>\n",
       "      <td>0.08</td>\n",
       "      <td>0.00</td>\n",
       "      <td>0.00</td>\n",
       "      <td>0.0</td>\n",
       "      <td>0.0</td>\n",
       "      <td>1</td>\n",
       "      <td>0.00</td>\n",
       "      <td>0</td>\n",
       "      <td>9</td>\n",
       "      <td>13</td>\n",
       "      <td>1</td>\n",
       "    </tr>\n",
       "    <tr>\n",
       "      <th>1</th>\n",
       "      <td>0.05</td>\n",
       "      <td>1.00</td>\n",
       "      <td>1.00</td>\n",
       "      <td>1.0</td>\n",
       "      <td>1.0</td>\n",
       "      <td>26</td>\n",
       "      <td>0.10</td>\n",
       "      <td>0</td>\n",
       "      <td>5</td>\n",
       "      <td>123</td>\n",
       "      <td>0</td>\n",
       "    </tr>\n",
       "    <tr>\n",
       "      <th>2</th>\n",
       "      <td>1.00</td>\n",
       "      <td>0.01</td>\n",
       "      <td>0.03</td>\n",
       "      <td>0.2</td>\n",
       "      <td>0.2</td>\n",
       "      <td>255</td>\n",
       "      <td>1.00</td>\n",
       "      <td>1</td>\n",
       "      <td>9</td>\n",
       "      <td>5</td>\n",
       "      <td>1</td>\n",
       "    </tr>\n",
       "    <tr>\n",
       "      <th>3</th>\n",
       "      <td>1.00</td>\n",
       "      <td>0.00</td>\n",
       "      <td>0.00</td>\n",
       "      <td>0.0</td>\n",
       "      <td>0.0</td>\n",
       "      <td>255</td>\n",
       "      <td>1.00</td>\n",
       "      <td>1</td>\n",
       "      <td>9</td>\n",
       "      <td>30</td>\n",
       "      <td>1</td>\n",
       "    </tr>\n",
       "    <tr>\n",
       "      <th>4</th>\n",
       "      <td>0.16</td>\n",
       "      <td>0.00</td>\n",
       "      <td>0.00</td>\n",
       "      <td>0.0</td>\n",
       "      <td>0.0</td>\n",
       "      <td>19</td>\n",
       "      <td>0.07</td>\n",
       "      <td>0</td>\n",
       "      <td>1</td>\n",
       "      <td>121</td>\n",
       "      <td>0</td>\n",
       "    </tr>\n",
       "    <tr>\n",
       "      <th>...</th>\n",
       "      <td>...</td>\n",
       "      <td>...</td>\n",
       "      <td>...</td>\n",
       "      <td>...</td>\n",
       "      <td>...</td>\n",
       "      <td>...</td>\n",
       "      <td>...</td>\n",
       "      <td>...</td>\n",
       "      <td>...</td>\n",
       "      <td>...</td>\n",
       "      <td>...</td>\n",
       "    </tr>\n",
       "    <tr>\n",
       "      <th>125967</th>\n",
       "      <td>0.14</td>\n",
       "      <td>1.00</td>\n",
       "      <td>1.00</td>\n",
       "      <td>1.0</td>\n",
       "      <td>1.0</td>\n",
       "      <td>25</td>\n",
       "      <td>0.10</td>\n",
       "      <td>0</td>\n",
       "      <td>5</td>\n",
       "      <td>184</td>\n",
       "      <td>0</td>\n",
       "    </tr>\n",
       "    <tr>\n",
       "      <th>125968</th>\n",
       "      <td>1.00</td>\n",
       "      <td>0.00</td>\n",
       "      <td>0.00</td>\n",
       "      <td>0.0</td>\n",
       "      <td>0.0</td>\n",
       "      <td>244</td>\n",
       "      <td>0.96</td>\n",
       "      <td>0</td>\n",
       "      <td>9</td>\n",
       "      <td>2</td>\n",
       "      <td>1</td>\n",
       "    </tr>\n",
       "    <tr>\n",
       "      <th>125969</th>\n",
       "      <td>1.00</td>\n",
       "      <td>0.00</td>\n",
       "      <td>0.72</td>\n",
       "      <td>0.0</td>\n",
       "      <td>0.0</td>\n",
       "      <td>30</td>\n",
       "      <td>0.12</td>\n",
       "      <td>1</td>\n",
       "      <td>9</td>\n",
       "      <td>1</td>\n",
       "      <td>1</td>\n",
       "    </tr>\n",
       "    <tr>\n",
       "      <th>125970</th>\n",
       "      <td>0.06</td>\n",
       "      <td>1.00</td>\n",
       "      <td>1.00</td>\n",
       "      <td>1.0</td>\n",
       "      <td>1.0</td>\n",
       "      <td>8</td>\n",
       "      <td>0.03</td>\n",
       "      <td>0</td>\n",
       "      <td>5</td>\n",
       "      <td>144</td>\n",
       "      <td>0</td>\n",
       "    </tr>\n",
       "    <tr>\n",
       "      <th>125971</th>\n",
       "      <td>1.00</td>\n",
       "      <td>0.00</td>\n",
       "      <td>0.00</td>\n",
       "      <td>0.0</td>\n",
       "      <td>0.0</td>\n",
       "      <td>77</td>\n",
       "      <td>0.30</td>\n",
       "      <td>1</td>\n",
       "      <td>9</td>\n",
       "      <td>1</td>\n",
       "      <td>1</td>\n",
       "    </tr>\n",
       "  </tbody>\n",
       "</table>\n",
       "<p>125972 rows × 11 columns</p>\n",
       "</div>"
      ],
      "text/plain": [
       "        same_srv_rate  dst_host_srv_serror_rate  dst_host_serror_rate  \\\n",
       "0                0.08                      0.00                  0.00   \n",
       "1                0.05                      1.00                  1.00   \n",
       "2                1.00                      0.01                  0.03   \n",
       "3                1.00                      0.00                  0.00   \n",
       "4                0.16                      0.00                  0.00   \n",
       "...               ...                       ...                   ...   \n",
       "125967           0.14                      1.00                  1.00   \n",
       "125968           1.00                      0.00                  0.00   \n",
       "125969           1.00                      0.00                  0.72   \n",
       "125970           0.06                      1.00                  1.00   \n",
       "125971           1.00                      0.00                  0.00   \n",
       "\n",
       "        serror_rate  srv_serror_rate  dst_host_srv_count  \\\n",
       "0               0.0              0.0                   1   \n",
       "1               1.0              1.0                  26   \n",
       "2               0.2              0.2                 255   \n",
       "3               0.0              0.0                 255   \n",
       "4               0.0              0.0                  19   \n",
       "...             ...              ...                 ...   \n",
       "125967          1.0              1.0                  25   \n",
       "125968          0.0              0.0                 244   \n",
       "125969          0.0              0.0                  30   \n",
       "125970          1.0              1.0                   8   \n",
       "125971          0.0              0.0                  77   \n",
       "\n",
       "        dst_host_same_srv_rate  logged_in  flag  count  attack  \n",
       "0                         0.00          0     9     13       1  \n",
       "1                         0.10          0     5    123       0  \n",
       "2                         1.00          1     9      5       1  \n",
       "3                         1.00          1     9     30       1  \n",
       "4                         0.07          0     1    121       0  \n",
       "...                        ...        ...   ...    ...     ...  \n",
       "125967                    0.10          0     5    184       0  \n",
       "125968                    0.96          0     9      2       1  \n",
       "125969                    0.12          1     9      1       1  \n",
       "125970                    0.03          0     5    144       0  \n",
       "125971                    0.30          1     9      1       1  \n",
       "\n",
       "[125972 rows x 11 columns]"
      ]
     },
     "execution_count": 2,
     "metadata": {},
     "output_type": "execute_result"
    }
   ],
   "source": [
    "train_df_10"
   ]
  },
  {
   "cell_type": "code",
   "execution_count": 3,
   "metadata": {},
   "outputs": [
    {
     "data": {
      "text/html": [
       "<div>\n",
       "<style scoped>\n",
       "    .dataframe tbody tr th:only-of-type {\n",
       "        vertical-align: middle;\n",
       "    }\n",
       "\n",
       "    .dataframe tbody tr th {\n",
       "        vertical-align: top;\n",
       "    }\n",
       "\n",
       "    .dataframe thead th {\n",
       "        text-align: right;\n",
       "    }\n",
       "</style>\n",
       "<table border=\"1\" class=\"dataframe\">\n",
       "  <thead>\n",
       "    <tr style=\"text-align: right;\">\n",
       "      <th></th>\n",
       "      <th>same_srv_rate</th>\n",
       "      <th>dst_host_srv_serror_rate</th>\n",
       "      <th>dst_host_serror_rate</th>\n",
       "      <th>serror_rate</th>\n",
       "      <th>srv_serror_rate</th>\n",
       "      <th>dst_host_srv_count</th>\n",
       "      <th>dst_host_same_srv_rate</th>\n",
       "      <th>logged_in</th>\n",
       "      <th>flag</th>\n",
       "      <th>count</th>\n",
       "      <th>attack</th>\n",
       "    </tr>\n",
       "  </thead>\n",
       "  <tbody>\n",
       "    <tr>\n",
       "      <th>0</th>\n",
       "      <td>0.01</td>\n",
       "      <td>0.0</td>\n",
       "      <td>0.00</td>\n",
       "      <td>0.0</td>\n",
       "      <td>0.00</td>\n",
       "      <td>1</td>\n",
       "      <td>0.00</td>\n",
       "      <td>0</td>\n",
       "      <td>1</td>\n",
       "      <td>136</td>\n",
       "      <td>0</td>\n",
       "    </tr>\n",
       "    <tr>\n",
       "      <th>1</th>\n",
       "      <td>1.00</td>\n",
       "      <td>0.0</td>\n",
       "      <td>0.00</td>\n",
       "      <td>0.0</td>\n",
       "      <td>0.00</td>\n",
       "      <td>86</td>\n",
       "      <td>0.61</td>\n",
       "      <td>0</td>\n",
       "      <td>9</td>\n",
       "      <td>1</td>\n",
       "      <td>1</td>\n",
       "    </tr>\n",
       "    <tr>\n",
       "      <th>2</th>\n",
       "      <td>1.00</td>\n",
       "      <td>0.0</td>\n",
       "      <td>0.00</td>\n",
       "      <td>0.0</td>\n",
       "      <td>0.00</td>\n",
       "      <td>57</td>\n",
       "      <td>1.00</td>\n",
       "      <td>0</td>\n",
       "      <td>9</td>\n",
       "      <td>1</td>\n",
       "      <td>2</td>\n",
       "    </tr>\n",
       "    <tr>\n",
       "      <th>3</th>\n",
       "      <td>1.00</td>\n",
       "      <td>0.0</td>\n",
       "      <td>0.00</td>\n",
       "      <td>0.0</td>\n",
       "      <td>0.12</td>\n",
       "      <td>86</td>\n",
       "      <td>0.31</td>\n",
       "      <td>0</td>\n",
       "      <td>2</td>\n",
       "      <td>1</td>\n",
       "      <td>2</td>\n",
       "    </tr>\n",
       "    <tr>\n",
       "      <th>4</th>\n",
       "      <td>1.00</td>\n",
       "      <td>0.0</td>\n",
       "      <td>0.01</td>\n",
       "      <td>0.0</td>\n",
       "      <td>0.00</td>\n",
       "      <td>255</td>\n",
       "      <td>1.00</td>\n",
       "      <td>1</td>\n",
       "      <td>9</td>\n",
       "      <td>4</td>\n",
       "      <td>1</td>\n",
       "    </tr>\n",
       "    <tr>\n",
       "      <th>...</th>\n",
       "      <td>...</td>\n",
       "      <td>...</td>\n",
       "      <td>...</td>\n",
       "      <td>...</td>\n",
       "      <td>...</td>\n",
       "      <td>...</td>\n",
       "      <td>...</td>\n",
       "      <td>...</td>\n",
       "      <td>...</td>\n",
       "      <td>...</td>\n",
       "      <td>...</td>\n",
       "    </tr>\n",
       "    <tr>\n",
       "      <th>22538</th>\n",
       "      <td>1.00</td>\n",
       "      <td>0.0</td>\n",
       "      <td>0.01</td>\n",
       "      <td>0.0</td>\n",
       "      <td>0.00</td>\n",
       "      <td>141</td>\n",
       "      <td>0.72</td>\n",
       "      <td>1</td>\n",
       "      <td>9</td>\n",
       "      <td>1</td>\n",
       "      <td>1</td>\n",
       "    </tr>\n",
       "    <tr>\n",
       "      <th>22539</th>\n",
       "      <td>1.00</td>\n",
       "      <td>0.0</td>\n",
       "      <td>0.01</td>\n",
       "      <td>0.0</td>\n",
       "      <td>0.00</td>\n",
       "      <td>255</td>\n",
       "      <td>1.00</td>\n",
       "      <td>1</td>\n",
       "      <td>9</td>\n",
       "      <td>2</td>\n",
       "      <td>1</td>\n",
       "    </tr>\n",
       "    <tr>\n",
       "      <th>22540</th>\n",
       "      <td>1.00</td>\n",
       "      <td>0.0</td>\n",
       "      <td>0.00</td>\n",
       "      <td>0.0</td>\n",
       "      <td>0.00</td>\n",
       "      <td>255</td>\n",
       "      <td>1.00</td>\n",
       "      <td>1</td>\n",
       "      <td>9</td>\n",
       "      <td>5</td>\n",
       "      <td>0</td>\n",
       "    </tr>\n",
       "    <tr>\n",
       "      <th>22541</th>\n",
       "      <td>1.00</td>\n",
       "      <td>0.0</td>\n",
       "      <td>0.00</td>\n",
       "      <td>0.0</td>\n",
       "      <td>0.00</td>\n",
       "      <td>252</td>\n",
       "      <td>0.99</td>\n",
       "      <td>0</td>\n",
       "      <td>9</td>\n",
       "      <td>4</td>\n",
       "      <td>1</td>\n",
       "    </tr>\n",
       "    <tr>\n",
       "      <th>22542</th>\n",
       "      <td>0.25</td>\n",
       "      <td>0.0</td>\n",
       "      <td>0.00</td>\n",
       "      <td>0.0</td>\n",
       "      <td>0.00</td>\n",
       "      <td>21</td>\n",
       "      <td>0.08</td>\n",
       "      <td>0</td>\n",
       "      <td>1</td>\n",
       "      <td>4</td>\n",
       "      <td>2</td>\n",
       "    </tr>\n",
       "  </tbody>\n",
       "</table>\n",
       "<p>22543 rows × 11 columns</p>\n",
       "</div>"
      ],
      "text/plain": [
       "       same_srv_rate  dst_host_srv_serror_rate  dst_host_serror_rate  \\\n",
       "0               0.01                       0.0                  0.00   \n",
       "1               1.00                       0.0                  0.00   \n",
       "2               1.00                       0.0                  0.00   \n",
       "3               1.00                       0.0                  0.00   \n",
       "4               1.00                       0.0                  0.01   \n",
       "...              ...                       ...                   ...   \n",
       "22538           1.00                       0.0                  0.01   \n",
       "22539           1.00                       0.0                  0.01   \n",
       "22540           1.00                       0.0                  0.00   \n",
       "22541           1.00                       0.0                  0.00   \n",
       "22542           0.25                       0.0                  0.00   \n",
       "\n",
       "       serror_rate  srv_serror_rate  dst_host_srv_count  \\\n",
       "0              0.0             0.00                   1   \n",
       "1              0.0             0.00                  86   \n",
       "2              0.0             0.00                  57   \n",
       "3              0.0             0.12                  86   \n",
       "4              0.0             0.00                 255   \n",
       "...            ...              ...                 ...   \n",
       "22538          0.0             0.00                 141   \n",
       "22539          0.0             0.00                 255   \n",
       "22540          0.0             0.00                 255   \n",
       "22541          0.0             0.00                 252   \n",
       "22542          0.0             0.00                  21   \n",
       "\n",
       "       dst_host_same_srv_rate  logged_in  flag  count  attack  \n",
       "0                        0.00          0     1    136       0  \n",
       "1                        0.61          0     9      1       1  \n",
       "2                        1.00          0     9      1       2  \n",
       "3                        0.31          0     2      1       2  \n",
       "4                        1.00          1     9      4       1  \n",
       "...                       ...        ...   ...    ...     ...  \n",
       "22538                    0.72          1     9      1       1  \n",
       "22539                    1.00          1     9      2       1  \n",
       "22540                    1.00          1     9      5       0  \n",
       "22541                    0.99          0     9      4       1  \n",
       "22542                    0.08          0     1      4       2  \n",
       "\n",
       "[22543 rows x 11 columns]"
      ]
     },
     "execution_count": 3,
     "metadata": {},
     "output_type": "execute_result"
    }
   ],
   "source": [
    "test_df_10"
   ]
  },
  {
   "cell_type": "code",
   "execution_count": 4,
   "metadata": {},
   "outputs": [],
   "source": [
    "train_x_10 = train_df_10.drop(labels=['attack'],axis=1)\n",
    "train_y_10 = train_df_10['attack']"
   ]
  },
  {
   "cell_type": "code",
   "execution_count": 5,
   "metadata": {},
   "outputs": [],
   "source": [
    "test_x_10 = test_df_10.drop(labels=['attack'],axis=1)\n",
    "test_y_10 = test_df_10['attack']"
   ]
  },
  {
   "cell_type": "code",
   "execution_count": 6,
   "metadata": {},
   "outputs": [],
   "source": [
    "train_df_15 = pd.read_csv(\"NSLKDD_top_15_TRAIN.csv\")\n",
    "test_df_15= pd.read_csv(\"NSLKDD_top_15_TEST.csv\")"
   ]
  },
  {
   "cell_type": "code",
   "execution_count": 7,
   "metadata": {},
   "outputs": [],
   "source": [
    "train_x_15 = train_df_15.drop(labels=['attack'],axis=1)\n",
    "train_y_15 = train_df_15['attack']"
   ]
  },
  {
   "cell_type": "code",
   "execution_count": 8,
   "metadata": {},
   "outputs": [],
   "source": [
    "test_x_15 = test_df_15.drop(labels=['attack'],axis=1)\n",
    "test_y_15 = test_df_15['attack']"
   ]
  },
  {
   "cell_type": "code",
   "execution_count": 9,
   "metadata": {},
   "outputs": [],
   "source": [
    "train_df_6 = pd.read_csv(\"NSLKDD_top_6_TRAIN.csv\")\n",
    "test_df_6 = pd.read_csv(\"NSLKDD_top_6_TEST.csv\")"
   ]
  },
  {
   "cell_type": "code",
   "execution_count": 10,
   "metadata": {},
   "outputs": [],
   "source": [
    "train_x_6 = train_df_6.drop(labels=['attack'],axis=1)\n",
    "train_y_6 = train_df_6['attack']"
   ]
  },
  {
   "cell_type": "code",
   "execution_count": 11,
   "metadata": {},
   "outputs": [],
   "source": [
    "test_x_6 = test_df_6.drop(labels=['attack'],axis=1)\n",
    "test_y_6 = test_df_6['attack']"
   ]
  },
  {
   "cell_type": "code",
   "execution_count": 12,
   "metadata": {},
   "outputs": [],
   "source": [
    "params={\n",
    "    \"n_neighbors\" : [2,3,4,5,6,7],\n",
    "    \"weights\" : [\"uniform\",\"distance\"],\n",
    "    \"metric\" : [\"euclidean\",\"manhattan\",\"minkowski\",\"wminkowski\"]\n",
    "}"
   ]
  },
  {
   "cell_type": "code",
   "execution_count": 13,
   "metadata": {},
   "outputs": [],
   "source": [
    "from sklearn.model_selection import RandomizedSearchCV\n",
    "from sklearn.neighbors import KNeighborsClassifier\n",
    "ran_search = RandomizedSearchCV(estimator=KNeighborsClassifier(),param_distributions=params,cv=5,n_jobs=-1)"
   ]
  },
  {
   "cell_type": "code",
   "execution_count": 14,
   "metadata": {},
   "outputs": [
    {
     "name": "stderr",
     "output_type": "stream",
     "text": [
      "/Users/chavamanish/opt/anaconda3/lib/python3.8/site-packages/sklearn/model_selection/_validation.py:372: FitFailedWarning: \n",
      "10 fits failed out of a total of 50.\n",
      "The score on these train-test partitions for these parameters will be set to nan.\n",
      "If these failures are not expected, you can try to debug them by setting error_score='raise'.\n",
      "\n",
      "Below are more details about the failures:\n",
      "--------------------------------------------------------------------------------\n",
      "10 fits failed with the following error:\n",
      "Traceback (most recent call last):\n",
      "  File \"/Users/chavamanish/opt/anaconda3/lib/python3.8/site-packages/sklearn/model_selection/_validation.py\", line 681, in _fit_and_score\n",
      "    estimator.fit(X_train, y_train, **fit_params)\n",
      "  File \"/Users/chavamanish/opt/anaconda3/lib/python3.8/site-packages/sklearn/neighbors/_classification.py\", line 198, in fit\n",
      "    return self._fit(X, y)\n",
      "  File \"/Users/chavamanish/opt/anaconda3/lib/python3.8/site-packages/sklearn/neighbors/_base.py\", line 546, in _fit\n",
      "    self._tree = BallTree(\n",
      "  File \"sklearn/neighbors/_binary_tree.pxi\", line 957, in sklearn.neighbors._ball_tree.BinaryTree.__init__\n",
      "  File \"sklearn/neighbors/_dist_metrics.pyx\", line 270, in sklearn.neighbors._dist_metrics.DistanceMetric.get_metric\n",
      "  File \"sklearn/neighbors/_dist_metrics.pyx\", line 610, in sklearn.neighbors._dist_metrics.WMinkowskiDistance.__init__\n",
      "TypeError: __init__() takes exactly 2 positional arguments (1 given)\n",
      "\n",
      "  warnings.warn(some_fits_failed_message, FitFailedWarning)\n",
      "/Users/chavamanish/opt/anaconda3/lib/python3.8/site-packages/sklearn/model_selection/_search.py:969: UserWarning: One or more of the test scores are non-finite: [0.95272759 0.95188612 0.951902          nan 0.94139176        nan\n",
      " 0.95065572 0.94155846 0.95093354 0.95132251]\n",
      "  warnings.warn(\n"
     ]
    },
    {
     "data": {
      "text/plain": [
       "RandomizedSearchCV(cv=5, estimator=KNeighborsClassifier(), n_jobs=-1,\n",
       "                   param_distributions={'metric': ['euclidean', 'manhattan',\n",
       "                                                   'minkowski', 'wminkowski'],\n",
       "                                        'n_neighbors': [2, 3, 4, 5, 6, 7],\n",
       "                                        'weights': ['uniform', 'distance']})"
      ]
     },
     "execution_count": 14,
     "metadata": {},
     "output_type": "execute_result"
    }
   ],
   "source": [
    "ran_search.fit(train_x_10,train_y_10)"
   ]
  },
  {
   "cell_type": "code",
   "execution_count": 15,
   "metadata": {},
   "outputs": [
    {
     "name": "stdout",
     "output_type": "stream",
     "text": [
      "for Top 10 features: {'weights': 'uniform', 'n_neighbors': 5, 'metric': 'minkowski'}\n"
     ]
    }
   ],
   "source": [
    "print(f'for Top 10 features: {ran_search.best_params_}')"
   ]
  },
  {
   "cell_type": "code",
   "execution_count": 16,
   "metadata": {},
   "outputs": [
    {
     "name": "stderr",
     "output_type": "stream",
     "text": [
      "/Users/chavamanish/opt/anaconda3/lib/python3.8/site-packages/sklearn/model_selection/_validation.py:372: FitFailedWarning: \n",
      "5 fits failed out of a total of 50.\n",
      "The score on these train-test partitions for these parameters will be set to nan.\n",
      "If these failures are not expected, you can try to debug them by setting error_score='raise'.\n",
      "\n",
      "Below are more details about the failures:\n",
      "--------------------------------------------------------------------------------\n",
      "5 fits failed with the following error:\n",
      "Traceback (most recent call last):\n",
      "  File \"/Users/chavamanish/opt/anaconda3/lib/python3.8/site-packages/sklearn/model_selection/_validation.py\", line 681, in _fit_and_score\n",
      "    estimator.fit(X_train, y_train, **fit_params)\n",
      "  File \"/Users/chavamanish/opt/anaconda3/lib/python3.8/site-packages/sklearn/neighbors/_classification.py\", line 198, in fit\n",
      "    return self._fit(X, y)\n",
      "  File \"/Users/chavamanish/opt/anaconda3/lib/python3.8/site-packages/sklearn/neighbors/_base.py\", line 546, in _fit\n",
      "    self._tree = BallTree(\n",
      "  File \"sklearn/neighbors/_binary_tree.pxi\", line 957, in sklearn.neighbors._ball_tree.BinaryTree.__init__\n",
      "  File \"sklearn/neighbors/_dist_metrics.pyx\", line 270, in sklearn.neighbors._dist_metrics.DistanceMetric.get_metric\n",
      "  File \"sklearn/neighbors/_dist_metrics.pyx\", line 610, in sklearn.neighbors._dist_metrics.WMinkowskiDistance.__init__\n",
      "TypeError: __init__() takes exactly 2 positional arguments (1 given)\n",
      "\n",
      "  warnings.warn(some_fits_failed_message, FitFailedWarning)\n",
      "/Users/chavamanish/opt/anaconda3/lib/python3.8/site-packages/sklearn/model_selection/_search.py:969: UserWarning: One or more of the test scores are non-finite: [0.98380593 0.98805291 0.98902137 0.98248817 0.98513161 0.98769568\n",
      "        nan 0.98591751 0.98248817 0.98142444]\n",
      "  warnings.warn(\n"
     ]
    },
    {
     "data": {
      "text/plain": [
       "RandomizedSearchCV(cv=5, estimator=KNeighborsClassifier(), n_jobs=-1,\n",
       "                   param_distributions={'metric': ['euclidean', 'manhattan',\n",
       "                                                   'minkowski', 'wminkowski'],\n",
       "                                        'n_neighbors': [2, 3, 4, 5, 6, 7],\n",
       "                                        'weights': ['uniform', 'distance']})"
      ]
     },
     "execution_count": 16,
     "metadata": {},
     "output_type": "execute_result"
    }
   ],
   "source": [
    "ran_search.fit(train_x_15,train_y_15)"
   ]
  },
  {
   "cell_type": "code",
   "execution_count": 17,
   "metadata": {},
   "outputs": [
    {
     "name": "stdout",
     "output_type": "stream",
     "text": [
      "for Top 15 features: {'weights': 'distance', 'n_neighbors': 5, 'metric': 'manhattan'}\n"
     ]
    }
   ],
   "source": [
    "print(f'for Top 15 features: {ran_search.best_params_}')"
   ]
  },
  {
   "cell_type": "code",
   "execution_count": 18,
   "metadata": {},
   "outputs": [
    {
     "name": "stderr",
     "output_type": "stream",
     "text": [
      "/Users/chavamanish/opt/anaconda3/lib/python3.8/site-packages/sklearn/model_selection/_validation.py:372: FitFailedWarning: \n",
      "10 fits failed out of a total of 50.\n",
      "The score on these train-test partitions for these parameters will be set to nan.\n",
      "If these failures are not expected, you can try to debug them by setting error_score='raise'.\n",
      "\n",
      "Below are more details about the failures:\n",
      "--------------------------------------------------------------------------------\n",
      "10 fits failed with the following error:\n",
      "Traceback (most recent call last):\n",
      "  File \"/Users/chavamanish/opt/anaconda3/lib/python3.8/site-packages/sklearn/model_selection/_validation.py\", line 681, in _fit_and_score\n",
      "    estimator.fit(X_train, y_train, **fit_params)\n",
      "  File \"/Users/chavamanish/opt/anaconda3/lib/python3.8/site-packages/sklearn/neighbors/_classification.py\", line 198, in fit\n",
      "    return self._fit(X, y)\n",
      "  File \"/Users/chavamanish/opt/anaconda3/lib/python3.8/site-packages/sklearn/neighbors/_base.py\", line 546, in _fit\n",
      "    self._tree = BallTree(\n",
      "  File \"sklearn/neighbors/_binary_tree.pxi\", line 957, in sklearn.neighbors._ball_tree.BinaryTree.__init__\n",
      "  File \"sklearn/neighbors/_dist_metrics.pyx\", line 270, in sklearn.neighbors._dist_metrics.DistanceMetric.get_metric\n",
      "  File \"sklearn/neighbors/_dist_metrics.pyx\", line 610, in sklearn.neighbors._dist_metrics.WMinkowskiDistance.__init__\n",
      "TypeError: __init__() takes exactly 2 positional arguments (1 given)\n",
      "\n",
      "  warnings.warn(some_fits_failed_message, FitFailedWarning)\n",
      "/Users/chavamanish/opt/anaconda3/lib/python3.8/site-packages/sklearn/model_selection/_search.py:969: UserWarning: One or more of the test scores are non-finite: [0.8609136  0.87805228 0.87640904        nan 0.8806322         nan\n",
      " 0.8806322  0.8798225  0.87867941 0.87004258]\n",
      "  warnings.warn(\n"
     ]
    },
    {
     "data": {
      "text/plain": [
       "RandomizedSearchCV(cv=5, estimator=KNeighborsClassifier(), n_jobs=-1,\n",
       "                   param_distributions={'metric': ['euclidean', 'manhattan',\n",
       "                                                   'minkowski', 'wminkowski'],\n",
       "                                        'n_neighbors': [2, 3, 4, 5, 6, 7],\n",
       "                                        'weights': ['uniform', 'distance']})"
      ]
     },
     "execution_count": 18,
     "metadata": {},
     "output_type": "execute_result"
    }
   ],
   "source": [
    "ran_search.fit(train_x_6,train_y_6)"
   ]
  },
  {
   "cell_type": "code",
   "execution_count": 19,
   "metadata": {},
   "outputs": [
    {
     "name": "stdout",
     "output_type": "stream",
     "text": [
      "for Top 16 features: {'weights': 'distance', 'n_neighbors': 7, 'metric': 'euclidean'}\n"
     ]
    }
   ],
   "source": [
    "print(f'for Top 16 features: {ran_search.best_params_}')"
   ]
  },
  {
   "cell_type": "code",
   "execution_count": 30,
   "metadata": {},
   "outputs": [
    {
     "data": {
      "text/plain": [
       "KNeighborsClassifier()"
      ]
     },
     "execution_count": 30,
     "metadata": {},
     "output_type": "execute_result"
    }
   ],
   "source": [
    "from sklearn.neighbors import KNeighborsClassifier as knn\n",
    "knn_clf_10 = knn(n_neighbors=5,weights=\"uniform\",metric=\"minkowski\")\n",
    "knn_clf_10.fit(train_x_10,train_y_10)"
   ]
  },
  {
   "cell_type": "code",
   "execution_count": 31,
   "metadata": {},
   "outputs": [
    {
     "name": "stdout",
     "output_type": "stream",
     "text": [
      "              precision    recall  f1-score   support\n",
      "\n",
      "           0       0.85      0.66      0.74      7459\n",
      "           1       0.61      0.92      0.74      9711\n",
      "           2       0.59      0.52      0.56      2421\n",
      "           3       0.52      0.02      0.04      2885\n",
      "           4       0.00      0.00      0.00        67\n",
      "\n",
      "    accuracy                           0.67     22543\n",
      "   macro avg       0.52      0.42      0.41     22543\n",
      "weighted avg       0.68      0.67      0.63     22543\n",
      "\n"
     ]
    },
    {
     "name": "stderr",
     "output_type": "stream",
     "text": [
      "/Users/chavamanish/opt/anaconda3/lib/python3.8/site-packages/sklearn/metrics/_classification.py:1308: UndefinedMetricWarning: Precision and F-score are ill-defined and being set to 0.0 in labels with no predicted samples. Use `zero_division` parameter to control this behavior.\n",
      "  _warn_prf(average, modifier, msg_start, len(result))\n",
      "/Users/chavamanish/opt/anaconda3/lib/python3.8/site-packages/sklearn/metrics/_classification.py:1308: UndefinedMetricWarning: Precision and F-score are ill-defined and being set to 0.0 in labels with no predicted samples. Use `zero_division` parameter to control this behavior.\n",
      "  _warn_prf(average, modifier, msg_start, len(result))\n",
      "/Users/chavamanish/opt/anaconda3/lib/python3.8/site-packages/sklearn/metrics/_classification.py:1308: UndefinedMetricWarning: Precision and F-score are ill-defined and being set to 0.0 in labels with no predicted samples. Use `zero_division` parameter to control this behavior.\n",
      "  _warn_prf(average, modifier, msg_start, len(result))\n"
     ]
    }
   ],
   "source": [
    "from sklearn.metrics import classification_report,accuracy_score\n",
    "ypred_10 = knn_clf_10.predict(test_x_10)\n",
    "print(classification_report(test_y_10,ypred_10));"
   ]
  },
  {
   "cell_type": "code",
   "execution_count": 33,
   "metadata": {},
   "outputs": [
    {
     "data": {
      "text/plain": [
       "KNeighborsClassifier(metric='manhattan', weights='distance')"
      ]
     },
     "execution_count": 33,
     "metadata": {},
     "output_type": "execute_result"
    }
   ],
   "source": [
    "knn_clf_15 = knn(n_neighbors=5,weights=\"distance\",metric=\"manhattan\")\n",
    "knn_clf_15.fit(train_x_15,train_y_15)"
   ]
  },
  {
   "cell_type": "code",
   "execution_count": 34,
   "metadata": {},
   "outputs": [
    {
     "name": "stdout",
     "output_type": "stream",
     "text": [
      "              precision    recall  f1-score   support\n",
      "\n",
      "           0       0.84      0.74      0.79      7459\n",
      "           1       0.70      0.95      0.80      9711\n",
      "           2       0.68      0.55      0.61      2421\n",
      "           3       0.68      0.18      0.28      2885\n",
      "           4       0.24      0.15      0.18        67\n",
      "\n",
      "    accuracy                           0.74     22543\n",
      "   macro avg       0.63      0.51      0.53     22543\n",
      "weighted avg       0.74      0.74      0.71     22543\n",
      "\n"
     ]
    }
   ],
   "source": [
    "ypred_15 = knn_clf_15.predict(test_x_15)\n",
    "print(classification_report(test_y_15,ypred_15))"
   ]
  },
  {
   "cell_type": "code",
   "execution_count": 36,
   "metadata": {},
   "outputs": [
    {
     "data": {
      "text/plain": [
       "KNeighborsClassifier(metric='euclidean', n_neighbors=7, weights='distance')"
      ]
     },
     "execution_count": 36,
     "metadata": {},
     "output_type": "execute_result"
    }
   ],
   "source": [
    "knn_clf_6 = knn(n_neighbors=7,weights=\"distance\",metric=\"euclidean\")\n",
    "knn_clf_6.fit(train_x_6,train_y_6)"
   ]
  },
  {
   "cell_type": "code",
   "execution_count": 37,
   "metadata": {},
   "outputs": [
    {
     "name": "stdout",
     "output_type": "stream",
     "text": [
      "              precision    recall  f1-score   support\n",
      "\n",
      "           0       0.80      0.77      0.78      7459\n",
      "           1       0.72      0.94      0.82      9711\n",
      "           2       0.65      0.52      0.58      2421\n",
      "           3       0.69      0.17      0.27      2885\n",
      "           4       0.26      0.15      0.19        67\n",
      "\n",
      "    accuracy                           0.74     22543\n",
      "   macro avg       0.62      0.51      0.53     22543\n",
      "weighted avg       0.73      0.74      0.71     22543\n",
      "\n"
     ]
    }
   ],
   "source": [
    "ypred_6 = knn_clf_6.predict(test_x_6)\n",
    "print(classification_report(test_y_6,ypred_6))"
   ]
  },
  {
   "cell_type": "code",
   "execution_count": null,
   "metadata": {},
   "outputs": [],
   "source": []
  },
  {
   "cell_type": "code",
   "execution_count": null,
   "metadata": {},
   "outputs": [],
   "source": []
  },
  {
   "cell_type": "code",
   "execution_count": null,
   "metadata": {},
   "outputs": [],
   "source": []
  }
 ],
 "metadata": {
  "kernelspec": {
   "display_name": "Python 3",
   "language": "python",
   "name": "python3"
  },
  "language_info": {
   "codemirror_mode": {
    "name": "ipython",
    "version": 3
   },
   "file_extension": ".py",
   "mimetype": "text/x-python",
   "name": "python",
   "nbconvert_exporter": "python",
   "pygments_lexer": "ipython3",
   "version": "3.8.5"
  }
 },
 "nbformat": 4,
 "nbformat_minor": 4
}
