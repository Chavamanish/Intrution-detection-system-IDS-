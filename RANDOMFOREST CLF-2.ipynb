{
 "cells": [
  {
   "cell_type": "markdown",
   "metadata": {},
   "source": [
    "# IMPORTING DATASETS"
   ]
  },
  {
   "cell_type": "code",
   "execution_count": 95,
   "metadata": {},
   "outputs": [],
   "source": [
    "import pandas as pd\n",
    "train_df_10 = pd.read_csv(\"NSLKDD_top_10_TRAIN.csv\")\n",
    "test_df_10 = pd.read_csv(\"NSLKDD_top_10_TEST.csv\")"
   ]
  },
  {
   "cell_type": "code",
   "execution_count": 96,
   "metadata": {},
   "outputs": [
    {
     "data": {
      "text/html": [
       "<div>\n",
       "<style scoped>\n",
       "    .dataframe tbody tr th:only-of-type {\n",
       "        vertical-align: middle;\n",
       "    }\n",
       "\n",
       "    .dataframe tbody tr th {\n",
       "        vertical-align: top;\n",
       "    }\n",
       "\n",
       "    .dataframe thead th {\n",
       "        text-align: right;\n",
       "    }\n",
       "</style>\n",
       "<table border=\"1\" class=\"dataframe\">\n",
       "  <thead>\n",
       "    <tr style=\"text-align: right;\">\n",
       "      <th></th>\n",
       "      <th>same_srv_rate</th>\n",
       "      <th>dst_host_srv_serror_rate</th>\n",
       "      <th>dst_host_serror_rate</th>\n",
       "      <th>serror_rate</th>\n",
       "      <th>srv_serror_rate</th>\n",
       "      <th>dst_host_srv_count</th>\n",
       "      <th>dst_host_same_srv_rate</th>\n",
       "      <th>logged_in</th>\n",
       "      <th>flag</th>\n",
       "      <th>count</th>\n",
       "      <th>attack</th>\n",
       "    </tr>\n",
       "  </thead>\n",
       "  <tbody>\n",
       "    <tr>\n",
       "      <th>0</th>\n",
       "      <td>0.08</td>\n",
       "      <td>0.00</td>\n",
       "      <td>0.00</td>\n",
       "      <td>0.0</td>\n",
       "      <td>0.0</td>\n",
       "      <td>1</td>\n",
       "      <td>0.00</td>\n",
       "      <td>0</td>\n",
       "      <td>9</td>\n",
       "      <td>13</td>\n",
       "      <td>1</td>\n",
       "    </tr>\n",
       "    <tr>\n",
       "      <th>1</th>\n",
       "      <td>0.05</td>\n",
       "      <td>1.00</td>\n",
       "      <td>1.00</td>\n",
       "      <td>1.0</td>\n",
       "      <td>1.0</td>\n",
       "      <td>26</td>\n",
       "      <td>0.10</td>\n",
       "      <td>0</td>\n",
       "      <td>5</td>\n",
       "      <td>123</td>\n",
       "      <td>0</td>\n",
       "    </tr>\n",
       "    <tr>\n",
       "      <th>2</th>\n",
       "      <td>1.00</td>\n",
       "      <td>0.01</td>\n",
       "      <td>0.03</td>\n",
       "      <td>0.2</td>\n",
       "      <td>0.2</td>\n",
       "      <td>255</td>\n",
       "      <td>1.00</td>\n",
       "      <td>1</td>\n",
       "      <td>9</td>\n",
       "      <td>5</td>\n",
       "      <td>1</td>\n",
       "    </tr>\n",
       "    <tr>\n",
       "      <th>3</th>\n",
       "      <td>1.00</td>\n",
       "      <td>0.00</td>\n",
       "      <td>0.00</td>\n",
       "      <td>0.0</td>\n",
       "      <td>0.0</td>\n",
       "      <td>255</td>\n",
       "      <td>1.00</td>\n",
       "      <td>1</td>\n",
       "      <td>9</td>\n",
       "      <td>30</td>\n",
       "      <td>1</td>\n",
       "    </tr>\n",
       "    <tr>\n",
       "      <th>4</th>\n",
       "      <td>0.16</td>\n",
       "      <td>0.00</td>\n",
       "      <td>0.00</td>\n",
       "      <td>0.0</td>\n",
       "      <td>0.0</td>\n",
       "      <td>19</td>\n",
       "      <td>0.07</td>\n",
       "      <td>0</td>\n",
       "      <td>1</td>\n",
       "      <td>121</td>\n",
       "      <td>0</td>\n",
       "    </tr>\n",
       "    <tr>\n",
       "      <th>...</th>\n",
       "      <td>...</td>\n",
       "      <td>...</td>\n",
       "      <td>...</td>\n",
       "      <td>...</td>\n",
       "      <td>...</td>\n",
       "      <td>...</td>\n",
       "      <td>...</td>\n",
       "      <td>...</td>\n",
       "      <td>...</td>\n",
       "      <td>...</td>\n",
       "      <td>...</td>\n",
       "    </tr>\n",
       "    <tr>\n",
       "      <th>125967</th>\n",
       "      <td>0.14</td>\n",
       "      <td>1.00</td>\n",
       "      <td>1.00</td>\n",
       "      <td>1.0</td>\n",
       "      <td>1.0</td>\n",
       "      <td>25</td>\n",
       "      <td>0.10</td>\n",
       "      <td>0</td>\n",
       "      <td>5</td>\n",
       "      <td>184</td>\n",
       "      <td>0</td>\n",
       "    </tr>\n",
       "    <tr>\n",
       "      <th>125968</th>\n",
       "      <td>1.00</td>\n",
       "      <td>0.00</td>\n",
       "      <td>0.00</td>\n",
       "      <td>0.0</td>\n",
       "      <td>0.0</td>\n",
       "      <td>244</td>\n",
       "      <td>0.96</td>\n",
       "      <td>0</td>\n",
       "      <td>9</td>\n",
       "      <td>2</td>\n",
       "      <td>1</td>\n",
       "    </tr>\n",
       "    <tr>\n",
       "      <th>125969</th>\n",
       "      <td>1.00</td>\n",
       "      <td>0.00</td>\n",
       "      <td>0.72</td>\n",
       "      <td>0.0</td>\n",
       "      <td>0.0</td>\n",
       "      <td>30</td>\n",
       "      <td>0.12</td>\n",
       "      <td>1</td>\n",
       "      <td>9</td>\n",
       "      <td>1</td>\n",
       "      <td>1</td>\n",
       "    </tr>\n",
       "    <tr>\n",
       "      <th>125970</th>\n",
       "      <td>0.06</td>\n",
       "      <td>1.00</td>\n",
       "      <td>1.00</td>\n",
       "      <td>1.0</td>\n",
       "      <td>1.0</td>\n",
       "      <td>8</td>\n",
       "      <td>0.03</td>\n",
       "      <td>0</td>\n",
       "      <td>5</td>\n",
       "      <td>144</td>\n",
       "      <td>0</td>\n",
       "    </tr>\n",
       "    <tr>\n",
       "      <th>125971</th>\n",
       "      <td>1.00</td>\n",
       "      <td>0.00</td>\n",
       "      <td>0.00</td>\n",
       "      <td>0.0</td>\n",
       "      <td>0.0</td>\n",
       "      <td>77</td>\n",
       "      <td>0.30</td>\n",
       "      <td>1</td>\n",
       "      <td>9</td>\n",
       "      <td>1</td>\n",
       "      <td>1</td>\n",
       "    </tr>\n",
       "  </tbody>\n",
       "</table>\n",
       "<p>125972 rows × 11 columns</p>\n",
       "</div>"
      ],
      "text/plain": [
       "        same_srv_rate  dst_host_srv_serror_rate  dst_host_serror_rate  \\\n",
       "0                0.08                      0.00                  0.00   \n",
       "1                0.05                      1.00                  1.00   \n",
       "2                1.00                      0.01                  0.03   \n",
       "3                1.00                      0.00                  0.00   \n",
       "4                0.16                      0.00                  0.00   \n",
       "...               ...                       ...                   ...   \n",
       "125967           0.14                      1.00                  1.00   \n",
       "125968           1.00                      0.00                  0.00   \n",
       "125969           1.00                      0.00                  0.72   \n",
       "125970           0.06                      1.00                  1.00   \n",
       "125971           1.00                      0.00                  0.00   \n",
       "\n",
       "        serror_rate  srv_serror_rate  dst_host_srv_count  \\\n",
       "0               0.0              0.0                   1   \n",
       "1               1.0              1.0                  26   \n",
       "2               0.2              0.2                 255   \n",
       "3               0.0              0.0                 255   \n",
       "4               0.0              0.0                  19   \n",
       "...             ...              ...                 ...   \n",
       "125967          1.0              1.0                  25   \n",
       "125968          0.0              0.0                 244   \n",
       "125969          0.0              0.0                  30   \n",
       "125970          1.0              1.0                   8   \n",
       "125971          0.0              0.0                  77   \n",
       "\n",
       "        dst_host_same_srv_rate  logged_in  flag  count  attack  \n",
       "0                         0.00          0     9     13       1  \n",
       "1                         0.10          0     5    123       0  \n",
       "2                         1.00          1     9      5       1  \n",
       "3                         1.00          1     9     30       1  \n",
       "4                         0.07          0     1    121       0  \n",
       "...                        ...        ...   ...    ...     ...  \n",
       "125967                    0.10          0     5    184       0  \n",
       "125968                    0.96          0     9      2       1  \n",
       "125969                    0.12          1     9      1       1  \n",
       "125970                    0.03          0     5    144       0  \n",
       "125971                    0.30          1     9      1       1  \n",
       "\n",
       "[125972 rows x 11 columns]"
      ]
     },
     "execution_count": 96,
     "metadata": {},
     "output_type": "execute_result"
    }
   ],
   "source": [
    "train_df_10"
   ]
  },
  {
   "cell_type": "code",
   "execution_count": 97,
   "metadata": {},
   "outputs": [
    {
     "data": {
      "text/html": [
       "<div>\n",
       "<style scoped>\n",
       "    .dataframe tbody tr th:only-of-type {\n",
       "        vertical-align: middle;\n",
       "    }\n",
       "\n",
       "    .dataframe tbody tr th {\n",
       "        vertical-align: top;\n",
       "    }\n",
       "\n",
       "    .dataframe thead th {\n",
       "        text-align: right;\n",
       "    }\n",
       "</style>\n",
       "<table border=\"1\" class=\"dataframe\">\n",
       "  <thead>\n",
       "    <tr style=\"text-align: right;\">\n",
       "      <th></th>\n",
       "      <th>same_srv_rate</th>\n",
       "      <th>dst_host_srv_serror_rate</th>\n",
       "      <th>dst_host_serror_rate</th>\n",
       "      <th>serror_rate</th>\n",
       "      <th>srv_serror_rate</th>\n",
       "      <th>dst_host_srv_count</th>\n",
       "      <th>dst_host_same_srv_rate</th>\n",
       "      <th>logged_in</th>\n",
       "      <th>flag</th>\n",
       "      <th>count</th>\n",
       "      <th>attack</th>\n",
       "    </tr>\n",
       "  </thead>\n",
       "  <tbody>\n",
       "    <tr>\n",
       "      <th>0</th>\n",
       "      <td>0.01</td>\n",
       "      <td>0.0</td>\n",
       "      <td>0.00</td>\n",
       "      <td>0.0</td>\n",
       "      <td>0.00</td>\n",
       "      <td>1</td>\n",
       "      <td>0.00</td>\n",
       "      <td>0</td>\n",
       "      <td>1</td>\n",
       "      <td>136</td>\n",
       "      <td>0</td>\n",
       "    </tr>\n",
       "    <tr>\n",
       "      <th>1</th>\n",
       "      <td>1.00</td>\n",
       "      <td>0.0</td>\n",
       "      <td>0.00</td>\n",
       "      <td>0.0</td>\n",
       "      <td>0.00</td>\n",
       "      <td>86</td>\n",
       "      <td>0.61</td>\n",
       "      <td>0</td>\n",
       "      <td>9</td>\n",
       "      <td>1</td>\n",
       "      <td>1</td>\n",
       "    </tr>\n",
       "    <tr>\n",
       "      <th>2</th>\n",
       "      <td>1.00</td>\n",
       "      <td>0.0</td>\n",
       "      <td>0.00</td>\n",
       "      <td>0.0</td>\n",
       "      <td>0.00</td>\n",
       "      <td>57</td>\n",
       "      <td>1.00</td>\n",
       "      <td>0</td>\n",
       "      <td>9</td>\n",
       "      <td>1</td>\n",
       "      <td>2</td>\n",
       "    </tr>\n",
       "    <tr>\n",
       "      <th>3</th>\n",
       "      <td>1.00</td>\n",
       "      <td>0.0</td>\n",
       "      <td>0.00</td>\n",
       "      <td>0.0</td>\n",
       "      <td>0.12</td>\n",
       "      <td>86</td>\n",
       "      <td>0.31</td>\n",
       "      <td>0</td>\n",
       "      <td>2</td>\n",
       "      <td>1</td>\n",
       "      <td>2</td>\n",
       "    </tr>\n",
       "    <tr>\n",
       "      <th>4</th>\n",
       "      <td>1.00</td>\n",
       "      <td>0.0</td>\n",
       "      <td>0.01</td>\n",
       "      <td>0.0</td>\n",
       "      <td>0.00</td>\n",
       "      <td>255</td>\n",
       "      <td>1.00</td>\n",
       "      <td>1</td>\n",
       "      <td>9</td>\n",
       "      <td>4</td>\n",
       "      <td>1</td>\n",
       "    </tr>\n",
       "    <tr>\n",
       "      <th>...</th>\n",
       "      <td>...</td>\n",
       "      <td>...</td>\n",
       "      <td>...</td>\n",
       "      <td>...</td>\n",
       "      <td>...</td>\n",
       "      <td>...</td>\n",
       "      <td>...</td>\n",
       "      <td>...</td>\n",
       "      <td>...</td>\n",
       "      <td>...</td>\n",
       "      <td>...</td>\n",
       "    </tr>\n",
       "    <tr>\n",
       "      <th>22538</th>\n",
       "      <td>1.00</td>\n",
       "      <td>0.0</td>\n",
       "      <td>0.01</td>\n",
       "      <td>0.0</td>\n",
       "      <td>0.00</td>\n",
       "      <td>141</td>\n",
       "      <td>0.72</td>\n",
       "      <td>1</td>\n",
       "      <td>9</td>\n",
       "      <td>1</td>\n",
       "      <td>1</td>\n",
       "    </tr>\n",
       "    <tr>\n",
       "      <th>22539</th>\n",
       "      <td>1.00</td>\n",
       "      <td>0.0</td>\n",
       "      <td>0.01</td>\n",
       "      <td>0.0</td>\n",
       "      <td>0.00</td>\n",
       "      <td>255</td>\n",
       "      <td>1.00</td>\n",
       "      <td>1</td>\n",
       "      <td>9</td>\n",
       "      <td>2</td>\n",
       "      <td>1</td>\n",
       "    </tr>\n",
       "    <tr>\n",
       "      <th>22540</th>\n",
       "      <td>1.00</td>\n",
       "      <td>0.0</td>\n",
       "      <td>0.00</td>\n",
       "      <td>0.0</td>\n",
       "      <td>0.00</td>\n",
       "      <td>255</td>\n",
       "      <td>1.00</td>\n",
       "      <td>1</td>\n",
       "      <td>9</td>\n",
       "      <td>5</td>\n",
       "      <td>0</td>\n",
       "    </tr>\n",
       "    <tr>\n",
       "      <th>22541</th>\n",
       "      <td>1.00</td>\n",
       "      <td>0.0</td>\n",
       "      <td>0.00</td>\n",
       "      <td>0.0</td>\n",
       "      <td>0.00</td>\n",
       "      <td>252</td>\n",
       "      <td>0.99</td>\n",
       "      <td>0</td>\n",
       "      <td>9</td>\n",
       "      <td>4</td>\n",
       "      <td>1</td>\n",
       "    </tr>\n",
       "    <tr>\n",
       "      <th>22542</th>\n",
       "      <td>0.25</td>\n",
       "      <td>0.0</td>\n",
       "      <td>0.00</td>\n",
       "      <td>0.0</td>\n",
       "      <td>0.00</td>\n",
       "      <td>21</td>\n",
       "      <td>0.08</td>\n",
       "      <td>0</td>\n",
       "      <td>1</td>\n",
       "      <td>4</td>\n",
       "      <td>2</td>\n",
       "    </tr>\n",
       "  </tbody>\n",
       "</table>\n",
       "<p>22543 rows × 11 columns</p>\n",
       "</div>"
      ],
      "text/plain": [
       "       same_srv_rate  dst_host_srv_serror_rate  dst_host_serror_rate  \\\n",
       "0               0.01                       0.0                  0.00   \n",
       "1               1.00                       0.0                  0.00   \n",
       "2               1.00                       0.0                  0.00   \n",
       "3               1.00                       0.0                  0.00   \n",
       "4               1.00                       0.0                  0.01   \n",
       "...              ...                       ...                   ...   \n",
       "22538           1.00                       0.0                  0.01   \n",
       "22539           1.00                       0.0                  0.01   \n",
       "22540           1.00                       0.0                  0.00   \n",
       "22541           1.00                       0.0                  0.00   \n",
       "22542           0.25                       0.0                  0.00   \n",
       "\n",
       "       serror_rate  srv_serror_rate  dst_host_srv_count  \\\n",
       "0              0.0             0.00                   1   \n",
       "1              0.0             0.00                  86   \n",
       "2              0.0             0.00                  57   \n",
       "3              0.0             0.12                  86   \n",
       "4              0.0             0.00                 255   \n",
       "...            ...              ...                 ...   \n",
       "22538          0.0             0.00                 141   \n",
       "22539          0.0             0.00                 255   \n",
       "22540          0.0             0.00                 255   \n",
       "22541          0.0             0.00                 252   \n",
       "22542          0.0             0.00                  21   \n",
       "\n",
       "       dst_host_same_srv_rate  logged_in  flag  count  attack  \n",
       "0                        0.00          0     1    136       0  \n",
       "1                        0.61          0     9      1       1  \n",
       "2                        1.00          0     9      1       2  \n",
       "3                        0.31          0     2      1       2  \n",
       "4                        1.00          1     9      4       1  \n",
       "...                       ...        ...   ...    ...     ...  \n",
       "22538                    0.72          1     9      1       1  \n",
       "22539                    1.00          1     9      2       1  \n",
       "22540                    1.00          1     9      5       0  \n",
       "22541                    0.99          0     9      4       1  \n",
       "22542                    0.08          0     1      4       2  \n",
       "\n",
       "[22543 rows x 11 columns]"
      ]
     },
     "execution_count": 97,
     "metadata": {},
     "output_type": "execute_result"
    }
   ],
   "source": [
    "test_df_10"
   ]
  },
  {
   "cell_type": "markdown",
   "metadata": {},
   "source": [
    "# SPLITTING THE DATASET"
   ]
  },
  {
   "cell_type": "code",
   "execution_count": 98,
   "metadata": {},
   "outputs": [],
   "source": [
    "train_df_15 = pd.read_csv(\"NSLKDD_top_15_TRAIN.csv\")\n",
    "test_df_15 = pd.read_csv(\"NSLKDD_top_15_TEST.csv\")"
   ]
  },
  {
   "cell_type": "code",
   "execution_count": 99,
   "metadata": {},
   "outputs": [],
   "source": [
    "train_df_6 = pd.read_csv(\"NSLKDD_top_6_TRAIN.csv\")\n",
    "test_df_6 = pd.read_csv(\"NSLKDD_top_6_TEST.csv\")"
   ]
  },
  {
   "cell_type": "code",
   "execution_count": 100,
   "metadata": {},
   "outputs": [],
   "source": [
    "train_x_10 = train_df_10.drop(labels=['attack'],axis=1)\n",
    "train_y_10 = train_df_10['attack']"
   ]
  },
  {
   "cell_type": "code",
   "execution_count": 101,
   "metadata": {},
   "outputs": [],
   "source": [
    "test_x_10 = test_df_10.drop(labels=['attack'],axis=1)\n",
    "test_y_10 = test_df_10['attack']"
   ]
  },
  {
   "cell_type": "code",
   "execution_count": 102,
   "metadata": {},
   "outputs": [],
   "source": [
    "train_x_15 = train_df_15.drop(labels=['attack'],axis=1)\n",
    "train_y_15 = train_df_15['attack']"
   ]
  },
  {
   "cell_type": "code",
   "execution_count": 103,
   "metadata": {},
   "outputs": [],
   "source": [
    "test_x_15 = test_df_15.drop(labels=['attack'],axis=1)\n",
    "test_y_15 = test_df_15['attack']"
   ]
  },
  {
   "cell_type": "code",
   "execution_count": 104,
   "metadata": {},
   "outputs": [],
   "source": [
    "train_x_6 = train_df_6.drop(labels=['attack'],axis=1)\n",
    "train_y_6 = train_df_6['attack']"
   ]
  },
  {
   "cell_type": "code",
   "execution_count": 105,
   "metadata": {},
   "outputs": [],
   "source": [
    "test_x_6 = test_df_6.drop(labels=['attack'],axis=1)\n",
    "test_y_6 = test_df_6['attack']"
   ]
  },
  {
   "cell_type": "markdown",
   "metadata": {},
   "source": [
    "# HYPER-PARAMETER TUNING USING RANDOMIZED SEARCH"
   ]
  },
  {
   "cell_type": "code",
   "execution_count": 107,
   "metadata": {},
   "outputs": [],
   "source": [
    "from sklearn.model_selection import RandomizedSearchCV\n",
    "param_grid = {\n",
    "    \"n_estimators\":[100,120,150,170,200], \n",
    "    \"criterion\":[\"gini\",\"entropy\"], \n",
    "    \"max_features\":[\"auto\",\"sqrt\",\"log2\"], \n",
    "    \"min_samples_leaf\":range(1,10,1), \n",
    "    \"min_samples_split\":range(2,10,1)\n",
    "}\n"
   ]
  },
  {
   "cell_type": "code",
   "execution_count": 108,
   "metadata": {},
   "outputs": [],
   "source": [
    "from sklearn.ensemble import RandomForestClassifier\n",
    "ran_search = RandomizedSearchCV(estimator=RandomForestClassifier(),param_distributions=param_grid,cv=5,n_jobs=-1)\n"
   ]
  },
  {
   "cell_type": "code",
   "execution_count": 109,
   "metadata": {},
   "outputs": [
    {
     "data": {
      "text/plain": [
       "RandomizedSearchCV(cv=5, estimator=RandomForestClassifier(), n_jobs=-1,\n",
       "                   param_distributions={'criterion': ['gini', 'entropy'],\n",
       "                                        'max_features': ['auto', 'sqrt',\n",
       "                                                         'log2'],\n",
       "                                        'min_samples_leaf': range(1, 10),\n",
       "                                        'min_samples_split': range(2, 10),\n",
       "                                        'n_estimators': [100, 120, 150, 170,\n",
       "                                                         200]})"
      ]
     },
     "execution_count": 109,
     "metadata": {},
     "output_type": "execute_result"
    }
   ],
   "source": [
    "ran_search.fit(train_x_10,train_y_10)\n"
   ]
  },
  {
   "cell_type": "code",
   "execution_count": 110,
   "metadata": {},
   "outputs": [
    {
     "name": "stdout",
     "output_type": "stream",
     "text": [
      "for Top 10 features: {'n_estimators': 150, 'min_samples_split': 7, 'min_samples_leaf': 2, 'max_features': 'log2', 'criterion': 'entropy'}\n"
     ]
    }
   ],
   "source": [
    "print(f'for Top 10 features: {ran_search.best_params_}')"
   ]
  },
  {
   "cell_type": "code",
   "execution_count": 111,
   "metadata": {},
   "outputs": [
    {
     "data": {
      "text/plain": [
       "RandomizedSearchCV(cv=5, estimator=RandomForestClassifier(), n_jobs=-1,\n",
       "                   param_distributions={'criterion': ['gini', 'entropy'],\n",
       "                                        'max_features': ['auto', 'sqrt',\n",
       "                                                         'log2'],\n",
       "                                        'min_samples_leaf': range(1, 10),\n",
       "                                        'min_samples_split': range(2, 10),\n",
       "                                        'n_estimators': [100, 120, 150, 170,\n",
       "                                                         200]})"
      ]
     },
     "execution_count": 111,
     "metadata": {},
     "output_type": "execute_result"
    }
   ],
   "source": [
    "ran_search.fit(train_x_15,train_y_15)"
   ]
  },
  {
   "cell_type": "code",
   "execution_count": 112,
   "metadata": {},
   "outputs": [
    {
     "name": "stdout",
     "output_type": "stream",
     "text": [
      "for Top 15 features: {'n_estimators': 170, 'min_samples_split': 5, 'min_samples_leaf': 2, 'max_features': 'auto', 'criterion': 'entropy'}\n"
     ]
    }
   ],
   "source": [
    "print(f'for Top 15 features: {ran_search.best_params_}')"
   ]
  },
  {
   "cell_type": "code",
   "execution_count": 113,
   "metadata": {},
   "outputs": [
    {
     "data": {
      "text/plain": [
       "RandomizedSearchCV(cv=5, estimator=RandomForestClassifier(), n_jobs=-1,\n",
       "                   param_distributions={'criterion': ['gini', 'entropy'],\n",
       "                                        'max_features': ['auto', 'sqrt',\n",
       "                                                         'log2'],\n",
       "                                        'min_samples_leaf': range(1, 10),\n",
       "                                        'min_samples_split': range(2, 10),\n",
       "                                        'n_estimators': [100, 120, 150, 170,\n",
       "                                                         200]})"
      ]
     },
     "execution_count": 113,
     "metadata": {},
     "output_type": "execute_result"
    }
   ],
   "source": [
    "ran_search.fit(train_x_6,train_y_6)"
   ]
  },
  {
   "cell_type": "code",
   "execution_count": 114,
   "metadata": {},
   "outputs": [
    {
     "name": "stdout",
     "output_type": "stream",
     "text": [
      "for Top 6 features: {'n_estimators': 200, 'min_samples_split': 9, 'min_samples_leaf': 4, 'max_features': 'log2', 'criterion': 'gini'}\n"
     ]
    }
   ],
   "source": [
    "print(f'for Top 6 features: {ran_search.best_params_}')"
   ]
  },
  {
   "cell_type": "markdown",
   "metadata": {},
   "source": [
    "# CREATING MODELS FOR TOP 6 10 AND 15 FEATURES USING THE RANDOMIZED SEARCH VALUES"
   ]
  },
  {
   "cell_type": "code",
   "execution_count": 121,
   "metadata": {},
   "outputs": [
    {
     "data": {
      "text/plain": [
       "RandomForestClassifier(criterion='entropy', max_features='log2',\n",
       "                       min_samples_leaf=2, min_samples_split=7,\n",
       "                       n_estimators=150)"
      ]
     },
     "execution_count": 121,
     "metadata": {},
     "output_type": "execute_result"
    }
   ],
   "source": [
    "clf_10 = RandomForestClassifier(n_estimators=150,min_samples_split=7,min_samples_leaf=2,max_features=\"log2\",criterion=\"entropy\")\n",
    "clf_10.fit(train_x_10,train_y_10)"
   ]
  },
  {
   "cell_type": "code",
   "execution_count": 122,
   "metadata": {},
   "outputs": [
    {
     "name": "stdout",
     "output_type": "stream",
     "text": [
      "top_10              precision    recall  f1-score   support\n",
      "\n",
      "           0       0.92      0.66      0.77      7459\n",
      "           1       0.62      0.95      0.75      9711\n",
      "           2       0.67      0.58      0.62      2421\n",
      "           3       0.68      0.01      0.03      2885\n",
      "           4       0.00      0.00      0.00        67\n",
      "\n",
      "    accuracy                           0.69     22543\n",
      "   macro avg       0.58      0.44      0.43     22543\n",
      "weighted avg       0.73      0.69      0.65     22543\n",
      "\n"
     ]
    },
    {
     "name": "stderr",
     "output_type": "stream",
     "text": [
      "/Users/chavamanish/opt/anaconda3/lib/python3.8/site-packages/sklearn/metrics/_classification.py:1308: UndefinedMetricWarning: Precision and F-score are ill-defined and being set to 0.0 in labels with no predicted samples. Use `zero_division` parameter to control this behavior.\n",
      "  _warn_prf(average, modifier, msg_start, len(result))\n",
      "/Users/chavamanish/opt/anaconda3/lib/python3.8/site-packages/sklearn/metrics/_classification.py:1308: UndefinedMetricWarning: Precision and F-score are ill-defined and being set to 0.0 in labels with no predicted samples. Use `zero_division` parameter to control this behavior.\n",
      "  _warn_prf(average, modifier, msg_start, len(result))\n",
      "/Users/chavamanish/opt/anaconda3/lib/python3.8/site-packages/sklearn/metrics/_classification.py:1308: UndefinedMetricWarning: Precision and F-score are ill-defined and being set to 0.0 in labels with no predicted samples. Use `zero_division` parameter to control this behavior.\n",
      "  _warn_prf(average, modifier, msg_start, len(result))\n"
     ]
    }
   ],
   "source": [
    "from sklearn.metrics import classification_report,accuracy_score\n",
    "ypred_10 = clf_10.predict(test_x_10)\n",
    "print(f'top_10{classification_report(test_y_10,ypred_10)}')"
   ]
  },
  {
   "cell_type": "code",
   "execution_count": 123,
   "metadata": {},
   "outputs": [
    {
     "data": {
      "text/plain": [
       "RandomForestClassifier(criterion='entropy', min_samples_leaf=2,\n",
       "                       min_samples_split=5, n_estimators=170)"
      ]
     },
     "execution_count": 123,
     "metadata": {},
     "output_type": "execute_result"
    }
   ],
   "source": [
    "clf_15 = RandomForestClassifier(n_estimators=170,min_samples_split=5,min_samples_leaf=2,max_features=\"auto\",criterion=\"entropy\")\n",
    "clf_15.fit(train_x_15,train_y_15)"
   ]
  },
  {
   "cell_type": "code",
   "execution_count": 124,
   "metadata": {},
   "outputs": [
    {
     "name": "stdout",
     "output_type": "stream",
     "text": [
      "top_15              precision    recall  f1-score   support\n",
      "\n",
      "           0       0.95      0.78      0.86      7459\n",
      "           1       0.68      0.97      0.80      9711\n",
      "           2       0.71      0.61      0.65      2421\n",
      "           3       0.92      0.17      0.28      2885\n",
      "           4       0.21      0.10      0.14        67\n",
      "\n",
      "    accuracy                           0.76     22543\n",
      "   macro avg       0.70      0.53      0.55     22543\n",
      "weighted avg       0.80      0.76      0.74     22543\n",
      "\n"
     ]
    }
   ],
   "source": [
    "ypred_15 = clf_15.predict(test_x_15)\n",
    "print(f'top_15{classification_report(test_y_15,ypred_15)}')"
   ]
  },
  {
   "cell_type": "code",
   "execution_count": 125,
   "metadata": {},
   "outputs": [
    {
     "data": {
      "text/plain": [
       "RandomForestClassifier(max_features='log2', min_samples_leaf=4,\n",
       "                       min_samples_split=9, n_estimators=200)"
      ]
     },
     "execution_count": 125,
     "metadata": {},
     "output_type": "execute_result"
    }
   ],
   "source": [
    "clf_6 = RandomForestClassifier(n_estimators=200,min_samples_split=9,min_samples_leaf=4,max_features=\"log2\",criterion=\"gini\")\n",
    "clf_6.fit(train_x_6,train_y_6)"
   ]
  },
  {
   "cell_type": "code",
   "execution_count": 126,
   "metadata": {},
   "outputs": [
    {
     "name": "stdout",
     "output_type": "stream",
     "text": [
      "top_6              precision    recall  f1-score   support\n",
      "\n",
      "           0       0.88      0.59      0.70      7459\n",
      "           1       0.59      0.97      0.73      9711\n",
      "           2       0.64      0.42      0.51      2421\n",
      "           3       0.40      0.00      0.00      2885\n",
      "           4       0.00      0.00      0.00        67\n",
      "\n",
      "    accuracy                           0.66     22543\n",
      "   macro avg       0.50      0.39      0.39     22543\n",
      "weighted avg       0.66      0.66      0.60     22543\n",
      "\n"
     ]
    },
    {
     "name": "stderr",
     "output_type": "stream",
     "text": [
      "/Users/chavamanish/opt/anaconda3/lib/python3.8/site-packages/sklearn/metrics/_classification.py:1308: UndefinedMetricWarning: Precision and F-score are ill-defined and being set to 0.0 in labels with no predicted samples. Use `zero_division` parameter to control this behavior.\n",
      "  _warn_prf(average, modifier, msg_start, len(result))\n",
      "/Users/chavamanish/opt/anaconda3/lib/python3.8/site-packages/sklearn/metrics/_classification.py:1308: UndefinedMetricWarning: Precision and F-score are ill-defined and being set to 0.0 in labels with no predicted samples. Use `zero_division` parameter to control this behavior.\n",
      "  _warn_prf(average, modifier, msg_start, len(result))\n",
      "/Users/chavamanish/opt/anaconda3/lib/python3.8/site-packages/sklearn/metrics/_classification.py:1308: UndefinedMetricWarning: Precision and F-score are ill-defined and being set to 0.0 in labels with no predicted samples. Use `zero_division` parameter to control this behavior.\n",
      "  _warn_prf(average, modifier, msg_start, len(result))\n"
     ]
    }
   ],
   "source": [
    "ypred_6 = clf_6.predict(test_x_6)\n",
    "print(f'top_6{classification_report(test_y_6,ypred_6)}')"
   ]
  },
  {
   "cell_type": "code",
   "execution_count": null,
   "metadata": {},
   "outputs": [],
   "source": []
  },
  {
   "cell_type": "code",
   "execution_count": null,
   "metadata": {},
   "outputs": [],
   "source": []
  },
  {
   "cell_type": "code",
   "execution_count": null,
   "metadata": {},
   "outputs": [],
   "source": []
  }
 ],
 "metadata": {
  "kernelspec": {
   "display_name": "Python 3",
   "language": "python",
   "name": "python3"
  },
  "language_info": {
   "codemirror_mode": {
    "name": "ipython",
    "version": 3
   },
   "file_extension": ".py",
   "mimetype": "text/x-python",
   "name": "python",
   "nbconvert_exporter": "python",
   "pygments_lexer": "ipython3",
   "version": "3.8.5"
  }
 },
 "nbformat": 4,
 "nbformat_minor": 4
}
