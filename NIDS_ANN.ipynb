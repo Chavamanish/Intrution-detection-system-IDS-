{
  "nbformat": 4,
  "nbformat_minor": 0,
  "metadata": {
    "colab": {
      "name": "NIDS_ANN.ipynb",
      "provenance": [],
      "collapsed_sections": [],
      "authorship_tag": "ABX9TyP6lP+JYOJAy6qJic3I0/+e",
      "include_colab_link": true
    },
    "kernelspec": {
      "name": "python3",
      "display_name": "Python 3"
    },
    "language_info": {
      "name": "python"
    }
  },
  "cells": [
    {
      "cell_type": "markdown",
      "metadata": {
        "id": "view-in-github",
        "colab_type": "text"
      },
      "source": [
        "<a href=\"https://colab.research.google.com/github/Chavamanish/Intrution-detection-system-IDS-/blob/main/NIDS_ANN.ipynb\" target=\"_parent\"><img src=\"https://colab.research.google.com/assets/colab-badge.svg\" alt=\"Open In Colab\"/></a>"
      ]
    },
    {
      "cell_type": "code",
      "execution_count": null,
      "metadata": {
        "id": "zhROOEChpjHC"
      },
      "outputs": [],
      "source": [
        ""
      ]
    },
    {
      "cell_type": "code",
      "source": [
        "from google.colab import drive\n",
        "drive.mount('/content/drive')"
      ],
      "metadata": {
        "colab": {
          "base_uri": "https://localhost:8080/"
        },
        "id": "zbzsuxt3pm4P",
        "outputId": "42ab7336-6875-40fc-f120-3b301379eb24"
      },
      "execution_count": null,
      "outputs": [
        {
          "output_type": "stream",
          "name": "stdout",
          "text": [
            "Mounted at /content/drive\n"
          ]
        }
      ]
    },
    {
      "cell_type": "code",
      "source": [
        "import pandas as pd\n",
        "import numpy as np\n",
        "train_df = pd.read_csv('/content/drive/MyDrive/NIDS DATASET/NSLKDD_TRAIN.csv')\n",
        "test_df = pd.read_csv('/content/drive/MyDrive/NIDS DATASET/NSLKDD_Test.csv')\n"
      ],
      "metadata": {
        "id": "tlMYLgFpppKw"
      },
      "execution_count": null,
      "outputs": []
    },
    {
      "cell_type": "code",
      "source": [
        "train_df['protocol_type'].value_counts()"
      ],
      "metadata": {
        "colab": {
          "base_uri": "https://localhost:8080/"
        },
        "id": "9R_nRYVDqXxU",
        "outputId": "97663fd9-d279-4936-bf0f-f6bbab52f2fb"
      },
      "execution_count": null,
      "outputs": [
        {
          "output_type": "execute_result",
          "data": {
            "text/plain": [
              "tcp     102688\n",
              "udp      14993\n",
              "icmp      8291\n",
              "Name: protocol_type, dtype: int64"
            ]
          },
          "metadata": {},
          "execution_count": 3
        }
      ]
    },
    {
      "cell_type": "code",
      "source": [
        "np.unique(train_df['protocol_type'])"
      ],
      "metadata": {
        "colab": {
          "base_uri": "https://localhost:8080/"
        },
        "id": "DCZtTDwFqpPx",
        "outputId": "ec97d892-df35-46b2-9d9e-ec312eab8edd"
      },
      "execution_count": null,
      "outputs": [
        {
          "output_type": "execute_result",
          "data": {
            "text/plain": [
              "array(['icmp', 'tcp', 'udp'], dtype=object)"
            ]
          },
          "metadata": {},
          "execution_count": 4
        }
      ]
    },
    {
      "cell_type": "code",
      "source": [
        "np.unique(train_df['service'])"
      ],
      "metadata": {
        "colab": {
          "base_uri": "https://localhost:8080/"
        },
        "id": "Dj2nzuCJrLOL",
        "outputId": "04a95fb9-d48a-4dbd-f5ba-7fa6ae4736e3"
      },
      "execution_count": null,
      "outputs": [
        {
          "output_type": "execute_result",
          "data": {
            "text/plain": [
              "array(['IRC', 'X11', 'Z39_50', 'aol', 'auth', 'bgp', 'courier',\n",
              "       'csnet_ns', 'ctf', 'daytime', 'discard', 'domain', 'domain_u',\n",
              "       'echo', 'eco_i', 'ecr_i', 'efs', 'exec', 'finger', 'ftp',\n",
              "       'ftp_data', 'gopher', 'harvest', 'hostnames', 'http', 'http_2784',\n",
              "       'http_443', 'http_8001', 'imap4', 'iso_tsap', 'klogin', 'kshell',\n",
              "       'ldap', 'link', 'login', 'mtp', 'name', 'netbios_dgm',\n",
              "       'netbios_ns', 'netbios_ssn', 'netstat', 'nnsp', 'nntp', 'ntp_u',\n",
              "       'other', 'pm_dump', 'pop_2', 'pop_3', 'printer', 'private',\n",
              "       'red_i', 'remote_job', 'rje', 'shell', 'smtp', 'sql_net', 'ssh',\n",
              "       'sunrpc', 'supdup', 'systat', 'telnet', 'tftp_u', 'tim_i', 'time',\n",
              "       'urh_i', 'urp_i', 'uucp', 'uucp_path', 'vmnet', 'whois'],\n",
              "      dtype=object)"
            ]
          },
          "metadata": {},
          "execution_count": 5
        }
      ]
    },
    {
      "cell_type": "code",
      "source": [
        "np.unique(train_df['flag'])"
      ],
      "metadata": {
        "colab": {
          "base_uri": "https://localhost:8080/"
        },
        "id": "P-pCEG2brfo5",
        "outputId": "a18e0f6c-de8f-46e8-cc16-e3a01501def5"
      },
      "execution_count": null,
      "outputs": [
        {
          "output_type": "execute_result",
          "data": {
            "text/plain": [
              "array(['OTH', 'REJ', 'RSTO', 'RSTOS0', 'RSTR', 'S0', 'S1', 'S2', 'S3',\n",
              "       'SF', 'SH'], dtype=object)"
            ]
          },
          "metadata": {},
          "execution_count": 6
        }
      ]
    },
    {
      "cell_type": "code",
      "source": [
        "attack_types = {\n",
        "    \"back\":\"DOS\",\n",
        "    \"land\":\"DOS\",\n",
        "    \"neptune\":\"DOS\",\n",
        "    \"pod\":\"DOS\",\n",
        "    \"smurf\":\"DOS\",\n",
        "    \"teardrop\":\"DOS\",\n",
        "    \"apache2\":\"DOS\",\n",
        "    \"udpstorm\":\"DOS\",\n",
        "    \"processtable\":\"DOS\",\n",
        "    \"worm\":\"DOS\",\n",
        "    \"satan\":\"PROBE\",\n",
        "    \"ipsweep\":\"PROBE\",\n",
        "    \"nmap\":\"PROBE\",\n",
        "    \"portsweep\":\"PROBE\",\n",
        "    \"mscan\":\"PROBE\",\n",
        "    \"saint\":\"PROBE\",\n",
        "    \"guess_passwd\":\"R2L\",\n",
        "    \"ftp_write\":\"R2L\",\n",
        "    \"imap\":\"R2L\",\n",
        "    \"phf\":\"R2L\",\n",
        "    \"multihop\":\"R2L\",\n",
        "    \"warezmaster\":\"R2L\",\n",
        "    \"warezclient\":\"R2L\",\n",
        "    \"spy\":\"R2L\",\n",
        "    \"xlock\":\"R2L\",\n",
        "    \"xsnoop\":\"R2L\",\n",
        "    \"snmpguess\":\"R2L\",\n",
        "    \"snmpgetattack\":\"R2L\",\n",
        "    \"httptunnel\":\"R2L\",\n",
        "    \"sendmail\":\"R2L\",\n",
        "    \"named\":\"R2L\",\n",
        "    \"buffer_overflow\":\"U2R\",\n",
        "    \"loadmodule\":\"U2R\",\n",
        "    \"rootkit\":\"U2R\",\n",
        "    \"perl\":\"U2R\",\n",
        "    \"sqlattack\":\"U2R\",\n",
        "    \"xterm\":\"U2R\",\n",
        "    \"ps\":\"U2R\",\n",
        "    \"mailbomb\":\"DOS\",\n",
        "    \"normal\":\"NORMAL\"\n",
        "    \n",
        "}"
      ],
      "metadata": {
        "id": "ZV11DAFWtEHN"
      },
      "execution_count": null,
      "outputs": []
    },
    {
      "cell_type": "code",
      "source": [
        "train_df['attack'] = train_df['attack'].map(attack_types)\n",
        "test_df['attack'] = test_df['attack'].map(attack_types)"
      ],
      "metadata": {
        "id": "DXb_t_AktJfM"
      },
      "execution_count": null,
      "outputs": []
    },
    {
      "cell_type": "code",
      "source": [
        "train_15_df = pd.read_csv('/content/drive/MyDrive/NIDS DATASET/NSLKDD_top_15_TRAIN.csv')\n",
        "test_15_df = pd.read_csv('/content/drive/MyDrive/NIDS DATASET/NSLKDD_top_15_TEST.csv')"
      ],
      "metadata": {
        "id": "HF27rsJ3v7fW"
      },
      "execution_count": null,
      "outputs": []
    },
    {
      "cell_type": "code",
      "source": [
        "x_train_15 = train_15_df.iloc[:,0:-1].values\n",
        "y_train_15= train_15_df.iloc[:,-1].values\n",
        "x_test_15 = test_15_df.iloc[:,0:-1].values\n",
        "y_test_15 = test_15_df.iloc[:,-1].values"
      ],
      "metadata": {
        "id": "OHFQ8ixFxpjG"
      },
      "execution_count": null,
      "outputs": []
    },
    {
      "cell_type": "code",
      "source": [
        "from sklearn.preprocessing import StandardScaler\n",
        "sc = StandardScaler()\n",
        "x_train_15 = sc.fit_transform(x_train_15)\n",
        "x_test_15 = sc.transform(x_test_15)"
      ],
      "metadata": {
        "id": "OggnkaPExCJv"
      },
      "execution_count": null,
      "outputs": []
    },
    {
      "cell_type": "code",
      "source": [
        "import tensorflow as tf\n",
        "def build_model_15(hp):\n",
        "    ann_15 = tf.keras.Sequential()\n",
        "\n",
        "    ann_15.add(\n",
        "        tf.keras.layers.Dense(\n",
        "            units=15,\n",
        "            activation=hp.Choice(f'Input layer activation func',['relu','tanh'])\n",
        "            ))\n",
        "    \n",
        "    for i in range(hp.Int(\"DENSE_LAYER\",1,10)):\n",
        "      ann_15.add(tf.keras.layers.Dense(units=hp.Int(f'Layer{i}',min_value=5,max_value=15,step=2),activation=hp.Choice(f'Layer{i} activation',['relu','tanh'])))\n",
        "    ann_15.add(tf.keras.layers.Dense(units=5, activation='softmax'))\n",
        "    ann_15.compile(\n",
        "        optimizer=\"adam\", loss=\"SparseCategoricalCrossentropy\", metrics=[\"accuracy\"],\n",
        "    )\n",
        "    return ann_15\n"
      ],
      "metadata": {
        "id": "J9RKX1fdzpt2"
      },
      "execution_count": null,
      "outputs": []
    },
    {
      "cell_type": "code",
      "source": [
        "!pip install keras-tuner -q"
      ],
      "metadata": {
        "id": "Ts5Dt_9Bge_h",
        "colab": {
          "base_uri": "https://localhost:8080/"
        },
        "outputId": "f04b16fe-e572-4d3e-9667-6585d941fe6f"
      },
      "execution_count": null,
      "outputs": [
        {
          "output_type": "stream",
          "name": "stdout",
          "text": [
            "\u001b[?25l\r\u001b[K     |██▌                             | 10 kB 28.3 MB/s eta 0:00:01\r\u001b[K     |█████                           | 20 kB 37.0 MB/s eta 0:00:01\r\u001b[K     |███████▍                        | 30 kB 27.4 MB/s eta 0:00:01\r\u001b[K     |█████████▉                      | 40 kB 15.1 MB/s eta 0:00:01\r\u001b[K     |████████████▎                   | 51 kB 13.6 MB/s eta 0:00:01\r\u001b[K     |██████████████▊                 | 61 kB 15.9 MB/s eta 0:00:01\r\u001b[K     |█████████████████▏              | 71 kB 15.2 MB/s eta 0:00:01\r\u001b[K     |███████████████████▋            | 81 kB 14.8 MB/s eta 0:00:01\r\u001b[K     |██████████████████████          | 92 kB 16.3 MB/s eta 0:00:01\r\u001b[K     |████████████████████████▌       | 102 kB 14.8 MB/s eta 0:00:01\r\u001b[K     |███████████████████████████     | 112 kB 14.8 MB/s eta 0:00:01\r\u001b[K     |█████████████████████████████▍  | 122 kB 14.8 MB/s eta 0:00:01\r\u001b[K     |███████████████████████████████▉| 133 kB 14.8 MB/s eta 0:00:01\r\u001b[K     |████████████████████████████████| 133 kB 14.8 MB/s \n",
            "\u001b[?25h"
          ]
        }
      ]
    },
    {
      "cell_type": "code",
      "source": [
        " from keras_tuner import RandomSearch\n",
        " from keras_tuner.engine.hyperparameters import HyperParameters\n",
        " "
      ],
      "metadata": {
        "id": "wSbN-2GBz6-z"
      },
      "execution_count": null,
      "outputs": []
    },
    {
      "cell_type": "code",
      "source": [
        "tuner_search=RandomSearch(hypermodel=build_model_15,objective=\"val_accuracy\",max_trials=3,directory=\"nids_dir\",project_name=\"NIDSCLF\")\n"
      ],
      "metadata": {
        "id": "saAKTvjZgk0L"
      },
      "execution_count": null,
      "outputs": []
    },
    {
      "cell_type": "code",
      "source": [
        "tuner_search.search(x_train_15,y_train_15,epochs=3,validation_data=(x_test_15,y_test_15))"
      ],
      "metadata": {
        "colab": {
          "base_uri": "https://localhost:8080/"
        },
        "id": "w7iVf7kvhBdP",
        "outputId": "0023e05b-bee1-4c18-97d9-44745058cd56"
      },
      "execution_count": null,
      "outputs": [
        {
          "output_type": "stream",
          "name": "stdout",
          "text": [
            "Trial 3 Complete [00h 00m 20s]\n",
            "val_accuracy: 0.8045069575309753\n",
            "\n",
            "Best val_accuracy So Far: 0.8045069575309753\n",
            "Total elapsed time: 00h 01m 09s\n",
            "INFO:tensorflow:Oracle triggered exit\n"
          ]
        }
      ]
    },
    {
      "cell_type": "code",
      "source": [
        "ann_15=tuner_search.get_best_models(num_models=1)[0]"
      ],
      "metadata": {
        "id": "fkTBqbpcj41q"
      },
      "execution_count": null,
      "outputs": []
    },
    {
      "cell_type": "code",
      "source": [
        "ann_15.fit(x_train_15,y_train_15,validation_data=(x_test_15,y_test_15),epochs=5,initial_epoch=3)"
      ],
      "metadata": {
        "colab": {
          "base_uri": "https://localhost:8080/"
        },
        "id": "Un0gbycwkGSE",
        "outputId": "e17a1ad9-041b-49ac-8d00-7d8abb001658"
      },
      "execution_count": null,
      "outputs": [
        {
          "output_type": "stream",
          "name": "stdout",
          "text": [
            "Epoch 4/5\n",
            "3937/3937 [==============================] - 13s 3ms/step - loss: 0.0248 - accuracy: 0.9932 - val_loss: 1.1876 - val_accuracy: 0.8027\n",
            "Epoch 5/5\n",
            "3937/3937 [==============================] - 9s 2ms/step - loss: 0.0240 - accuracy: 0.9933 - val_loss: 1.1722 - val_accuracy: 0.8050\n"
          ]
        },
        {
          "output_type": "execute_result",
          "data": {
            "text/plain": [
              "<keras.callbacks.History at 0x7f6d6a1e23d0>"
            ]
          },
          "metadata": {},
          "execution_count": 20
        }
      ]
    },
    {
      "cell_type": "code",
      "source": [
        "train_df = train_df.drop(columns=['service','last_flag'],axis=1)"
      ],
      "metadata": {
        "id": "IhEj5iircbZ0"
      },
      "execution_count": null,
      "outputs": []
    },
    {
      "cell_type": "code",
      "source": [
        "test_df = test_df.drop(columns=['service','last_flag'],axis=1)"
      ],
      "metadata": {
        "id": "G1iksqRvdVEZ"
      },
      "execution_count": null,
      "outputs": []
    },
    {
      "cell_type": "code",
      "source": [
        "x_train = train_df.iloc[:,0:-1].values\n",
        "y_train= train_df.iloc[:,-1].values\n",
        "x_test = test_df.iloc[:,0:-1].values\n",
        "y_test = test_df.iloc[:,-1].values"
      ],
      "metadata": {
        "id": "8apvPYFokSYt"
      },
      "execution_count": null,
      "outputs": []
    },
    {
      "cell_type": "code",
      "source": [
        "x_train"
      ],
      "metadata": {
        "colab": {
          "base_uri": "https://localhost:8080/"
        },
        "id": "B5tF70OflEmA",
        "outputId": "297eacbc-80e2-4c18-b4dd-b6d8b67781ed"
      },
      "execution_count": null,
      "outputs": [
        {
          "output_type": "execute_result",
          "data": {
            "text/plain": [
              "array([[0, 'udp', 'SF', ..., 0.0, 0.0, 0.0],\n",
              "       [0, 'tcp', 'S0', ..., 1.0, 0.0, 0.0],\n",
              "       [0, 'tcp', 'SF', ..., 0.01, 0.0, 1.0],\n",
              "       ...,\n",
              "       [0, 'tcp', 'SF', ..., 0.0, 0.01, 0.0],\n",
              "       [0, 'tcp', 'S0', ..., 1.0, 0.0, 0.0],\n",
              "       [0, 'tcp', 'SF', ..., 0.0, 0.0, 0.0]], dtype=object)"
            ]
          },
          "metadata": {},
          "execution_count": 96
        }
      ]
    },
    {
      "cell_type": "code",
      "source": [
        "y_train"
      ],
      "metadata": {
        "colab": {
          "base_uri": "https://localhost:8080/"
        },
        "id": "SBz7QoEfoGRF",
        "outputId": "d1adc790-bd2b-4c31-87f8-f8640fc26e5a"
      },
      "execution_count": null,
      "outputs": [
        {
          "output_type": "execute_result",
          "data": {
            "text/plain": [
              "array(['NORMAL', 'DOS', 'NORMAL', ..., 'NORMAL', 'DOS', 'NORMAL'],\n",
              "      dtype=object)"
            ]
          },
          "metadata": {},
          "execution_count": 97
        }
      ]
    },
    {
      "cell_type": "code",
      "source": [
        "from sklearn.compose import ColumnTransformer\n",
        "from sklearn.preprocessing import OneHotEncoder\n",
        "ct = ColumnTransformer(transformers=[('encoder', OneHotEncoder(), [1,2])], remainder='passthrough')\n",
        "x_train = ct.fit_transform(x_train)\n",
        "x_test = ct.fit_transform(x_test)"
      ],
      "metadata": {
        "id": "jn09jJRKkyvC"
      },
      "execution_count": null,
      "outputs": []
    },
    {
      "cell_type": "code",
      "source": [
        "from sklearn.preprocessing import LabelEncoder\n",
        "le = LabelEncoder()\n",
        "y_train[:] = le.fit_transform(y_train[:])\n",
        "y_test[:] = le.fit_transform(y_test[:])"
      ],
      "metadata": {
        "id": "0LrkYUW7gB4w"
      },
      "execution_count": null,
      "outputs": []
    },
    {
      "cell_type": "code",
      "source": [
        "y_train"
      ],
      "metadata": {
        "colab": {
          "base_uri": "https://localhost:8080/"
        },
        "id": "fQYPymRFmmlY",
        "outputId": "fdafeaca-23ac-4f8a-8c5b-33c35a783daa"
      },
      "execution_count": null,
      "outputs": [
        {
          "output_type": "execute_result",
          "data": {
            "text/plain": [
              "array([1, 0, 1, ..., 1, 0, 1], dtype=object)"
            ]
          },
          "metadata": {},
          "execution_count": 100
        }
      ]
    },
    {
      "cell_type": "code",
      "source": [
        "le.classes_"
      ],
      "metadata": {
        "colab": {
          "base_uri": "https://localhost:8080/"
        },
        "id": "Hmkz2IxSmzNe",
        "outputId": "5cdb69b3-7690-4b49-da5c-bff2432edc86"
      },
      "execution_count": null,
      "outputs": [
        {
          "output_type": "execute_result",
          "data": {
            "text/plain": [
              "array(['DOS', 'NORMAL', 'PROBE', 'R2L', 'U2R'], dtype=object)"
            ]
          },
          "metadata": {},
          "execution_count": 101
        }
      ]
    },
    {
      "cell_type": "code",
      "source": [
        "x_train.shape"
      ],
      "metadata": {
        "colab": {
          "base_uri": "https://localhost:8080/"
        },
        "id": "qxX16S8toMjL",
        "outputId": "f5a5a13d-f06c-462f-db2f-3dd2956d48c8"
      },
      "execution_count": null,
      "outputs": [
        {
          "output_type": "execute_result",
          "data": {
            "text/plain": [
              "(125972, 52)"
            ]
          },
          "metadata": {},
          "execution_count": 102
        }
      ]
    },
    {
      "cell_type": "code",
      "source": [
        "y_train.shape"
      ],
      "metadata": {
        "colab": {
          "base_uri": "https://localhost:8080/"
        },
        "id": "BaL9LPSPodS0",
        "outputId": "1187cf75-b0ef-4706-96db-34a5c03c8d2e"
      },
      "execution_count": null,
      "outputs": [
        {
          "output_type": "execute_result",
          "data": {
            "text/plain": [
              "(125972,)"
            ]
          },
          "metadata": {},
          "execution_count": 103
        }
      ]
    },
    {
      "cell_type": "code",
      "source": [
        "def build_model_52(hp):\n",
        "    ann_52 = tf.keras.Sequential()\n",
        "\n",
        "    ann_52.add(\n",
        "        tf.keras.layers.Dense(\n",
        "            units=52,\n",
        "            activation=hp.Choice(f'Input layer activation func',['relu','tanh'])\n",
        "            ))\n",
        "    \n",
        "    for i in range(hp.Int(\"DENSE_LAYER\",1,10)):\n",
        "      ann_52.add(tf.keras.layers.Dense(units=hp.Int(f'Layer{i}',min_value=5,max_value=52,step=2),activation=hp.Choice(f'Layer{i} activation',['relu','tanh'])))\n",
        "    ann_52.add(tf.keras.layers.Dense(units=5, activation='softmax'))\n",
        "    ann_52.compile(\n",
        "        optimizer=\"adam\", loss=\"SparseCategoricalCrossentropy\", metrics=[\"accuracy\"],\n",
        "    )\n",
        "    return ann_52"
      ],
      "metadata": {
        "id": "EB0K_591ohoI"
      },
      "execution_count": null,
      "outputs": []
    },
    {
      "cell_type": "code",
      "source": [
        "tuner_search_52 = RandomSearch(hypermodel=build_model_52,objective='val_accuracy',max_trials=3,directory=\"nids_dir_52\",project_name=\"NIDSCLF_52\")"
      ],
      "metadata": {
        "id": "TOsAguBMo9Jn"
      },
      "execution_count": null,
      "outputs": []
    },
    {
      "cell_type": "code",
      "source": [
        "type(x_train)"
      ],
      "metadata": {
        "colab": {
          "base_uri": "https://localhost:8080/"
        },
        "id": "qPaXIiflpicw",
        "outputId": "7ecd2266-b2fa-489c-b182-5b5dfed3ed45"
      },
      "execution_count": null,
      "outputs": [
        {
          "output_type": "execute_result",
          "data": {
            "text/plain": [
              "numpy.ndarray"
            ]
          },
          "metadata": {},
          "execution_count": 107
        }
      ]
    },
    {
      "cell_type": "code",
      "source": [
        "tf_tensor_x_train = tf.convert_to_tensor(x_train,dtype=tf.float32)"
      ],
      "metadata": {
        "id": "fc-RKfs0p-fA"
      },
      "execution_count": null,
      "outputs": []
    },
    {
      "cell_type": "code",
      "source": [
        "tf_tensor_x_test = tf.convert_to_tensor(x_test,dtype=tf.float32)"
      ],
      "metadata": {
        "id": "crMb7fapqCpI"
      },
      "execution_count": null,
      "outputs": []
    },
    {
      "cell_type": "code",
      "source": [
        "tf_tensor_y_train = tf.convert_to_tensor(y_train,dtype=tf.float32)\n",
        "tf_tensor_y_test = tf.convert_to_tensor(y_test,dtype=tf.float32)"
      ],
      "metadata": {
        "id": "lxbng-ZyswAj"
      },
      "execution_count": null,
      "outputs": []
    },
    {
      "cell_type": "code",
      "source": [
        "tuner_search_52.search(tf_tensor_x_train,tf_tensor_y_train,epochs=3,validation_data=(tf_tensor_x_test,tf_tensor_y_test))"
      ],
      "metadata": {
        "colab": {
          "base_uri": "https://localhost:8080/"
        },
        "id": "S5A0luszpFHa",
        "outputId": "08abc45e-b992-402a-f1fc-9d334a297798"
      },
      "execution_count": null,
      "outputs": [
        {
          "output_type": "stream",
          "name": "stdout",
          "text": [
            "Trial 3 Complete [00h 00m 41s]\n",
            "val_accuracy: 0.7176950573921204\n",
            "\n",
            "Best val_accuracy So Far: 0.7313134670257568\n",
            "Total elapsed time: 00h 19m 01s\n",
            "INFO:tensorflow:Oracle triggered exit\n"
          ]
        }
      ]
    },
    {
      "cell_type": "code",
      "source": [
        "ann_52=tuner_search_52.get_best_models(num_models=1)[0]"
      ],
      "metadata": {
        "id": "ZJln52nEpKew"
      },
      "execution_count": null,
      "outputs": []
    },
    {
      "cell_type": "code",
      "source": [
        "ann_52.fit(tf_tensor_x_train,tf_tensor_y_train,validation_data=(tf_tensor_x_test,tf_tensor_y_test),epochs=6,initial_epoch=3)"
      ],
      "metadata": {
        "colab": {
          "base_uri": "https://localhost:8080/"
        },
        "id": "83Rb_Dx1pMhr",
        "outputId": "041879e7-2ddb-4271-b37b-9f8360051982"
      },
      "execution_count": null,
      "outputs": [
        {
          "output_type": "stream",
          "name": "stdout",
          "text": [
            "Epoch 4/6\n",
            "3937/3937 [==============================] - 8s 2ms/step - loss: 0.0457 - accuracy: 0.9870 - val_loss: 1.8951 - val_accuracy: 0.7352\n",
            "Epoch 5/6\n",
            "3937/3937 [==============================] - 8s 2ms/step - loss: 0.0445 - accuracy: 0.9864 - val_loss: 2.1623 - val_accuracy: 0.7031\n",
            "Epoch 6/6\n",
            "3937/3937 [==============================] - 7s 2ms/step - loss: 0.0475 - accuracy: 0.9864 - val_loss: 1.8355 - val_accuracy: 0.7326\n"
          ]
        },
        {
          "output_type": "execute_result",
          "data": {
            "text/plain": [
              "<keras.callbacks.History at 0x7f6d649d9550>"
            ]
          },
          "metadata": {},
          "execution_count": 125
        }
      ]
    },
    {
      "cell_type": "code",
      "source": [
        "ann_52.summary()"
      ],
      "metadata": {
        "colab": {
          "base_uri": "https://localhost:8080/"
        },
        "id": "vQ9_-ongvnjS",
        "outputId": "0b6e9548-770e-436a-8687-779c8937524d"
      },
      "execution_count": null,
      "outputs": [
        {
          "output_type": "stream",
          "name": "stdout",
          "text": [
            "Model: \"sequential\"\n",
            "_________________________________________________________________\n",
            " Layer (type)                Output Shape              Param #   \n",
            "=================================================================\n",
            " dense (Dense)               (None, 52)                2756      \n",
            "                                                                 \n",
            " dense_1 (Dense)             (None, 49)                2597      \n",
            "                                                                 \n",
            " dense_2 (Dense)             (None, 5)                 250       \n",
            "                                                                 \n",
            " dense_3 (Dense)             (None, 5)                 30        \n",
            "                                                                 \n",
            " dense_4 (Dense)             (None, 5)                 30        \n",
            "                                                                 \n",
            " dense_5 (Dense)             (None, 5)                 30        \n",
            "                                                                 \n",
            "=================================================================\n",
            "Total params: 5,693\n",
            "Trainable params: 5,693\n",
            "Non-trainable params: 0\n",
            "_________________________________________________________________\n"
          ]
        }
      ]
    },
    {
      "cell_type": "code",
      "source": [
        "ann_15.summary()"
      ],
      "metadata": {
        "colab": {
          "base_uri": "https://localhost:8080/"
        },
        "id": "8ZHu98ZUvtAh",
        "outputId": "b66cc73c-536a-44fb-f17f-b5f432e6c7a3"
      },
      "execution_count": null,
      "outputs": [
        {
          "output_type": "stream",
          "name": "stdout",
          "text": [
            "Model: \"sequential\"\n",
            "_________________________________________________________________\n",
            " Layer (type)                Output Shape              Param #   \n",
            "=================================================================\n",
            " dense (Dense)               (None, 15)                240       \n",
            "                                                                 \n",
            " dense_1 (Dense)             (None, 5)                 80        \n",
            "                                                                 \n",
            " dense_2 (Dense)             (None, 7)                 42        \n",
            "                                                                 \n",
            " dense_3 (Dense)             (None, 5)                 40        \n",
            "                                                                 \n",
            "=================================================================\n",
            "Total params: 402\n",
            "Trainable params: 402\n",
            "Non-trainable params: 0\n",
            "_________________________________________________________________\n"
          ]
        }
      ]
    }
  ]
}