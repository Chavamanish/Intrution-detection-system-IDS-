{
 "cells": [
  {
   "cell_type": "code",
   "execution_count": 60,
   "metadata": {},
   "outputs": [],
   "source": [
    "import pandas as pd\n",
    "train_df_10 = pd.read_csv(\"NSLKDD_top_10_TRAIN.csv\")\n",
    "test_df_10 = pd.read_csv(\"NSLKDD_top_10_TEST.csv\")"
   ]
  },
  {
   "cell_type": "code",
   "execution_count": 61,
   "metadata": {},
   "outputs": [
    {
     "data": {
      "text/html": [
       "<div>\n",
       "<style scoped>\n",
       "    .dataframe tbody tr th:only-of-type {\n",
       "        vertical-align: middle;\n",
       "    }\n",
       "\n",
       "    .dataframe tbody tr th {\n",
       "        vertical-align: top;\n",
       "    }\n",
       "\n",
       "    .dataframe thead th {\n",
       "        text-align: right;\n",
       "    }\n",
       "</style>\n",
       "<table border=\"1\" class=\"dataframe\">\n",
       "  <thead>\n",
       "    <tr style=\"text-align: right;\">\n",
       "      <th></th>\n",
       "      <th>same_srv_rate</th>\n",
       "      <th>dst_host_srv_serror_rate</th>\n",
       "      <th>dst_host_serror_rate</th>\n",
       "      <th>serror_rate</th>\n",
       "      <th>srv_serror_rate</th>\n",
       "      <th>dst_host_srv_count</th>\n",
       "      <th>dst_host_same_srv_rate</th>\n",
       "      <th>logged_in</th>\n",
       "      <th>flag</th>\n",
       "      <th>count</th>\n",
       "      <th>attack</th>\n",
       "    </tr>\n",
       "  </thead>\n",
       "  <tbody>\n",
       "    <tr>\n",
       "      <th>0</th>\n",
       "      <td>0.08</td>\n",
       "      <td>0.00</td>\n",
       "      <td>0.00</td>\n",
       "      <td>0.0</td>\n",
       "      <td>0.0</td>\n",
       "      <td>1</td>\n",
       "      <td>0.00</td>\n",
       "      <td>0</td>\n",
       "      <td>9</td>\n",
       "      <td>13</td>\n",
       "      <td>1</td>\n",
       "    </tr>\n",
       "    <tr>\n",
       "      <th>1</th>\n",
       "      <td>0.05</td>\n",
       "      <td>1.00</td>\n",
       "      <td>1.00</td>\n",
       "      <td>1.0</td>\n",
       "      <td>1.0</td>\n",
       "      <td>26</td>\n",
       "      <td>0.10</td>\n",
       "      <td>0</td>\n",
       "      <td>5</td>\n",
       "      <td>123</td>\n",
       "      <td>0</td>\n",
       "    </tr>\n",
       "    <tr>\n",
       "      <th>2</th>\n",
       "      <td>1.00</td>\n",
       "      <td>0.01</td>\n",
       "      <td>0.03</td>\n",
       "      <td>0.2</td>\n",
       "      <td>0.2</td>\n",
       "      <td>255</td>\n",
       "      <td>1.00</td>\n",
       "      <td>1</td>\n",
       "      <td>9</td>\n",
       "      <td>5</td>\n",
       "      <td>1</td>\n",
       "    </tr>\n",
       "    <tr>\n",
       "      <th>3</th>\n",
       "      <td>1.00</td>\n",
       "      <td>0.00</td>\n",
       "      <td>0.00</td>\n",
       "      <td>0.0</td>\n",
       "      <td>0.0</td>\n",
       "      <td>255</td>\n",
       "      <td>1.00</td>\n",
       "      <td>1</td>\n",
       "      <td>9</td>\n",
       "      <td>30</td>\n",
       "      <td>1</td>\n",
       "    </tr>\n",
       "    <tr>\n",
       "      <th>4</th>\n",
       "      <td>0.16</td>\n",
       "      <td>0.00</td>\n",
       "      <td>0.00</td>\n",
       "      <td>0.0</td>\n",
       "      <td>0.0</td>\n",
       "      <td>19</td>\n",
       "      <td>0.07</td>\n",
       "      <td>0</td>\n",
       "      <td>1</td>\n",
       "      <td>121</td>\n",
       "      <td>0</td>\n",
       "    </tr>\n",
       "    <tr>\n",
       "      <th>...</th>\n",
       "      <td>...</td>\n",
       "      <td>...</td>\n",
       "      <td>...</td>\n",
       "      <td>...</td>\n",
       "      <td>...</td>\n",
       "      <td>...</td>\n",
       "      <td>...</td>\n",
       "      <td>...</td>\n",
       "      <td>...</td>\n",
       "      <td>...</td>\n",
       "      <td>...</td>\n",
       "    </tr>\n",
       "    <tr>\n",
       "      <th>125967</th>\n",
       "      <td>0.14</td>\n",
       "      <td>1.00</td>\n",
       "      <td>1.00</td>\n",
       "      <td>1.0</td>\n",
       "      <td>1.0</td>\n",
       "      <td>25</td>\n",
       "      <td>0.10</td>\n",
       "      <td>0</td>\n",
       "      <td>5</td>\n",
       "      <td>184</td>\n",
       "      <td>0</td>\n",
       "    </tr>\n",
       "    <tr>\n",
       "      <th>125968</th>\n",
       "      <td>1.00</td>\n",
       "      <td>0.00</td>\n",
       "      <td>0.00</td>\n",
       "      <td>0.0</td>\n",
       "      <td>0.0</td>\n",
       "      <td>244</td>\n",
       "      <td>0.96</td>\n",
       "      <td>0</td>\n",
       "      <td>9</td>\n",
       "      <td>2</td>\n",
       "      <td>1</td>\n",
       "    </tr>\n",
       "    <tr>\n",
       "      <th>125969</th>\n",
       "      <td>1.00</td>\n",
       "      <td>0.00</td>\n",
       "      <td>0.72</td>\n",
       "      <td>0.0</td>\n",
       "      <td>0.0</td>\n",
       "      <td>30</td>\n",
       "      <td>0.12</td>\n",
       "      <td>1</td>\n",
       "      <td>9</td>\n",
       "      <td>1</td>\n",
       "      <td>1</td>\n",
       "    </tr>\n",
       "    <tr>\n",
       "      <th>125970</th>\n",
       "      <td>0.06</td>\n",
       "      <td>1.00</td>\n",
       "      <td>1.00</td>\n",
       "      <td>1.0</td>\n",
       "      <td>1.0</td>\n",
       "      <td>8</td>\n",
       "      <td>0.03</td>\n",
       "      <td>0</td>\n",
       "      <td>5</td>\n",
       "      <td>144</td>\n",
       "      <td>0</td>\n",
       "    </tr>\n",
       "    <tr>\n",
       "      <th>125971</th>\n",
       "      <td>1.00</td>\n",
       "      <td>0.00</td>\n",
       "      <td>0.00</td>\n",
       "      <td>0.0</td>\n",
       "      <td>0.0</td>\n",
       "      <td>77</td>\n",
       "      <td>0.30</td>\n",
       "      <td>1</td>\n",
       "      <td>9</td>\n",
       "      <td>1</td>\n",
       "      <td>1</td>\n",
       "    </tr>\n",
       "  </tbody>\n",
       "</table>\n",
       "<p>125972 rows × 11 columns</p>\n",
       "</div>"
      ],
      "text/plain": [
       "        same_srv_rate  dst_host_srv_serror_rate  dst_host_serror_rate  \\\n",
       "0                0.08                      0.00                  0.00   \n",
       "1                0.05                      1.00                  1.00   \n",
       "2                1.00                      0.01                  0.03   \n",
       "3                1.00                      0.00                  0.00   \n",
       "4                0.16                      0.00                  0.00   \n",
       "...               ...                       ...                   ...   \n",
       "125967           0.14                      1.00                  1.00   \n",
       "125968           1.00                      0.00                  0.00   \n",
       "125969           1.00                      0.00                  0.72   \n",
       "125970           0.06                      1.00                  1.00   \n",
       "125971           1.00                      0.00                  0.00   \n",
       "\n",
       "        serror_rate  srv_serror_rate  dst_host_srv_count  \\\n",
       "0               0.0              0.0                   1   \n",
       "1               1.0              1.0                  26   \n",
       "2               0.2              0.2                 255   \n",
       "3               0.0              0.0                 255   \n",
       "4               0.0              0.0                  19   \n",
       "...             ...              ...                 ...   \n",
       "125967          1.0              1.0                  25   \n",
       "125968          0.0              0.0                 244   \n",
       "125969          0.0              0.0                  30   \n",
       "125970          1.0              1.0                   8   \n",
       "125971          0.0              0.0                  77   \n",
       "\n",
       "        dst_host_same_srv_rate  logged_in  flag  count  attack  \n",
       "0                         0.00          0     9     13       1  \n",
       "1                         0.10          0     5    123       0  \n",
       "2                         1.00          1     9      5       1  \n",
       "3                         1.00          1     9     30       1  \n",
       "4                         0.07          0     1    121       0  \n",
       "...                        ...        ...   ...    ...     ...  \n",
       "125967                    0.10          0     5    184       0  \n",
       "125968                    0.96          0     9      2       1  \n",
       "125969                    0.12          1     9      1       1  \n",
       "125970                    0.03          0     5    144       0  \n",
       "125971                    0.30          1     9      1       1  \n",
       "\n",
       "[125972 rows x 11 columns]"
      ]
     },
     "execution_count": 61,
     "metadata": {},
     "output_type": "execute_result"
    }
   ],
   "source": [
    "train_df_10"
   ]
  },
  {
   "cell_type": "code",
   "execution_count": 62,
   "metadata": {},
   "outputs": [
    {
     "data": {
      "text/html": [
       "<div>\n",
       "<style scoped>\n",
       "    .dataframe tbody tr th:only-of-type {\n",
       "        vertical-align: middle;\n",
       "    }\n",
       "\n",
       "    .dataframe tbody tr th {\n",
       "        vertical-align: top;\n",
       "    }\n",
       "\n",
       "    .dataframe thead th {\n",
       "        text-align: right;\n",
       "    }\n",
       "</style>\n",
       "<table border=\"1\" class=\"dataframe\">\n",
       "  <thead>\n",
       "    <tr style=\"text-align: right;\">\n",
       "      <th></th>\n",
       "      <th>same_srv_rate</th>\n",
       "      <th>dst_host_srv_serror_rate</th>\n",
       "      <th>dst_host_serror_rate</th>\n",
       "      <th>serror_rate</th>\n",
       "      <th>srv_serror_rate</th>\n",
       "      <th>dst_host_srv_count</th>\n",
       "      <th>dst_host_same_srv_rate</th>\n",
       "      <th>logged_in</th>\n",
       "      <th>flag</th>\n",
       "      <th>count</th>\n",
       "      <th>attack</th>\n",
       "    </tr>\n",
       "  </thead>\n",
       "  <tbody>\n",
       "    <tr>\n",
       "      <th>0</th>\n",
       "      <td>0.08</td>\n",
       "      <td>0.00</td>\n",
       "      <td>0.00</td>\n",
       "      <td>0.0</td>\n",
       "      <td>0.0</td>\n",
       "      <td>1</td>\n",
       "      <td>0.00</td>\n",
       "      <td>0</td>\n",
       "      <td>9</td>\n",
       "      <td>13</td>\n",
       "      <td>1</td>\n",
       "    </tr>\n",
       "    <tr>\n",
       "      <th>1</th>\n",
       "      <td>0.05</td>\n",
       "      <td>1.00</td>\n",
       "      <td>1.00</td>\n",
       "      <td>1.0</td>\n",
       "      <td>1.0</td>\n",
       "      <td>26</td>\n",
       "      <td>0.10</td>\n",
       "      <td>0</td>\n",
       "      <td>5</td>\n",
       "      <td>123</td>\n",
       "      <td>0</td>\n",
       "    </tr>\n",
       "    <tr>\n",
       "      <th>2</th>\n",
       "      <td>1.00</td>\n",
       "      <td>0.01</td>\n",
       "      <td>0.03</td>\n",
       "      <td>0.2</td>\n",
       "      <td>0.2</td>\n",
       "      <td>255</td>\n",
       "      <td>1.00</td>\n",
       "      <td>1</td>\n",
       "      <td>9</td>\n",
       "      <td>5</td>\n",
       "      <td>1</td>\n",
       "    </tr>\n",
       "    <tr>\n",
       "      <th>3</th>\n",
       "      <td>1.00</td>\n",
       "      <td>0.00</td>\n",
       "      <td>0.00</td>\n",
       "      <td>0.0</td>\n",
       "      <td>0.0</td>\n",
       "      <td>255</td>\n",
       "      <td>1.00</td>\n",
       "      <td>1</td>\n",
       "      <td>9</td>\n",
       "      <td>30</td>\n",
       "      <td>1</td>\n",
       "    </tr>\n",
       "    <tr>\n",
       "      <th>4</th>\n",
       "      <td>0.16</td>\n",
       "      <td>0.00</td>\n",
       "      <td>0.00</td>\n",
       "      <td>0.0</td>\n",
       "      <td>0.0</td>\n",
       "      <td>19</td>\n",
       "      <td>0.07</td>\n",
       "      <td>0</td>\n",
       "      <td>1</td>\n",
       "      <td>121</td>\n",
       "      <td>0</td>\n",
       "    </tr>\n",
       "    <tr>\n",
       "      <th>...</th>\n",
       "      <td>...</td>\n",
       "      <td>...</td>\n",
       "      <td>...</td>\n",
       "      <td>...</td>\n",
       "      <td>...</td>\n",
       "      <td>...</td>\n",
       "      <td>...</td>\n",
       "      <td>...</td>\n",
       "      <td>...</td>\n",
       "      <td>...</td>\n",
       "      <td>...</td>\n",
       "    </tr>\n",
       "    <tr>\n",
       "      <th>125967</th>\n",
       "      <td>0.14</td>\n",
       "      <td>1.00</td>\n",
       "      <td>1.00</td>\n",
       "      <td>1.0</td>\n",
       "      <td>1.0</td>\n",
       "      <td>25</td>\n",
       "      <td>0.10</td>\n",
       "      <td>0</td>\n",
       "      <td>5</td>\n",
       "      <td>184</td>\n",
       "      <td>0</td>\n",
       "    </tr>\n",
       "    <tr>\n",
       "      <th>125968</th>\n",
       "      <td>1.00</td>\n",
       "      <td>0.00</td>\n",
       "      <td>0.00</td>\n",
       "      <td>0.0</td>\n",
       "      <td>0.0</td>\n",
       "      <td>244</td>\n",
       "      <td>0.96</td>\n",
       "      <td>0</td>\n",
       "      <td>9</td>\n",
       "      <td>2</td>\n",
       "      <td>1</td>\n",
       "    </tr>\n",
       "    <tr>\n",
       "      <th>125969</th>\n",
       "      <td>1.00</td>\n",
       "      <td>0.00</td>\n",
       "      <td>0.72</td>\n",
       "      <td>0.0</td>\n",
       "      <td>0.0</td>\n",
       "      <td>30</td>\n",
       "      <td>0.12</td>\n",
       "      <td>1</td>\n",
       "      <td>9</td>\n",
       "      <td>1</td>\n",
       "      <td>1</td>\n",
       "    </tr>\n",
       "    <tr>\n",
       "      <th>125970</th>\n",
       "      <td>0.06</td>\n",
       "      <td>1.00</td>\n",
       "      <td>1.00</td>\n",
       "      <td>1.0</td>\n",
       "      <td>1.0</td>\n",
       "      <td>8</td>\n",
       "      <td>0.03</td>\n",
       "      <td>0</td>\n",
       "      <td>5</td>\n",
       "      <td>144</td>\n",
       "      <td>0</td>\n",
       "    </tr>\n",
       "    <tr>\n",
       "      <th>125971</th>\n",
       "      <td>1.00</td>\n",
       "      <td>0.00</td>\n",
       "      <td>0.00</td>\n",
       "      <td>0.0</td>\n",
       "      <td>0.0</td>\n",
       "      <td>77</td>\n",
       "      <td>0.30</td>\n",
       "      <td>1</td>\n",
       "      <td>9</td>\n",
       "      <td>1</td>\n",
       "      <td>1</td>\n",
       "    </tr>\n",
       "  </tbody>\n",
       "</table>\n",
       "<p>125972 rows × 11 columns</p>\n",
       "</div>"
      ],
      "text/plain": [
       "        same_srv_rate  dst_host_srv_serror_rate  dst_host_serror_rate  \\\n",
       "0                0.08                      0.00                  0.00   \n",
       "1                0.05                      1.00                  1.00   \n",
       "2                1.00                      0.01                  0.03   \n",
       "3                1.00                      0.00                  0.00   \n",
       "4                0.16                      0.00                  0.00   \n",
       "...               ...                       ...                   ...   \n",
       "125967           0.14                      1.00                  1.00   \n",
       "125968           1.00                      0.00                  0.00   \n",
       "125969           1.00                      0.00                  0.72   \n",
       "125970           0.06                      1.00                  1.00   \n",
       "125971           1.00                      0.00                  0.00   \n",
       "\n",
       "        serror_rate  srv_serror_rate  dst_host_srv_count  \\\n",
       "0               0.0              0.0                   1   \n",
       "1               1.0              1.0                  26   \n",
       "2               0.2              0.2                 255   \n",
       "3               0.0              0.0                 255   \n",
       "4               0.0              0.0                  19   \n",
       "...             ...              ...                 ...   \n",
       "125967          1.0              1.0                  25   \n",
       "125968          0.0              0.0                 244   \n",
       "125969          0.0              0.0                  30   \n",
       "125970          1.0              1.0                   8   \n",
       "125971          0.0              0.0                  77   \n",
       "\n",
       "        dst_host_same_srv_rate  logged_in  flag  count  attack  \n",
       "0                         0.00          0     9     13       1  \n",
       "1                         0.10          0     5    123       0  \n",
       "2                         1.00          1     9      5       1  \n",
       "3                         1.00          1     9     30       1  \n",
       "4                         0.07          0     1    121       0  \n",
       "...                        ...        ...   ...    ...     ...  \n",
       "125967                    0.10          0     5    184       0  \n",
       "125968                    0.96          0     9      2       1  \n",
       "125969                    0.12          1     9      1       1  \n",
       "125970                    0.03          0     5    144       0  \n",
       "125971                    0.30          1     9      1       1  \n",
       "\n",
       "[125972 rows x 11 columns]"
      ]
     },
     "execution_count": 62,
     "metadata": {},
     "output_type": "execute_result"
    }
   ],
   "source": [
    "test_df_10"
   ]
  },
  {
   "cell_type": "code",
   "execution_count": 63,
   "metadata": {},
   "outputs": [],
   "source": [
    "train_df_15 = pd.read_csv(\"NSLKDD_top_15_TRAIN.csv\")\n",
    "test_df_15 = pd.read_csv(\"NSLKDD_top_15_TEST.csv\")"
   ]
  },
  {
   "cell_type": "code",
   "execution_count": 64,
   "metadata": {},
   "outputs": [],
   "source": [
    "train_df_6 = pd.read_csv(\"NSLKDD_top_6_TRAIN.csv\")\n",
    "test_df_6 = pd.read_csv(\"NSLKDD_top_6_TEST.csv\")"
   ]
  },
  {
   "cell_type": "code",
   "execution_count": 65,
   "metadata": {},
   "outputs": [],
   "source": [
    "train_x_10 = train_df_10.drop(labels=['attack'],axis=1)\n",
    "train_y_10 = train_df_10['attack']"
   ]
  },
  {
   "cell_type": "code",
   "execution_count": 66,
   "metadata": {},
   "outputs": [],
   "source": [
    "test_x_10 = test_df_10.drop(labels=['attack'],axis=1)\n",
    "test_y_10 = test_df_10['attack']"
   ]
  },
  {
   "cell_type": "code",
   "execution_count": 67,
   "metadata": {},
   "outputs": [],
   "source": [
    "train_x_15 = train_df_15.drop(labels=['attack'],axis=1)\n",
    "train_y_15 = train_df_15['attack']"
   ]
  },
  {
   "cell_type": "code",
   "execution_count": 68,
   "metadata": {},
   "outputs": [],
   "source": [
    "test_x_15 = test_df_15.drop(labels=['attack'],axis=1)\n",
    "test_y_15 = test_df_15['attack']"
   ]
  },
  {
   "cell_type": "code",
   "execution_count": 69,
   "metadata": {},
   "outputs": [],
   "source": [
    "train_x_6 = train_df_6.drop(labels=['attack'],axis=1)\n",
    "train_y_6 = train_df_6['attack']"
   ]
  },
  {
   "cell_type": "code",
   "execution_count": 70,
   "metadata": {},
   "outputs": [],
   "source": [
    "test_x_6 = test_df_6.drop(labels=['attack'],axis=1)\n",
    "test_y_6 = test_df_6['attack']"
   ]
  },
  {
   "cell_type": "code",
   "execution_count": 71,
   "metadata": {},
   "outputs": [
    {
     "data": {
      "text/plain": [
       "RandomForestClassifier()"
      ]
     },
     "execution_count": 71,
     "metadata": {},
     "output_type": "execute_result"
    }
   ],
   "source": [
    "from sklearn.ensemble import RandomForestClassifier\n",
    "clf_10 = RandomForestClassifier()\n",
    "clf_10.fit(train_x_10,train_y_10)"
   ]
  },
  {
   "cell_type": "code",
   "execution_count": 72,
   "metadata": {},
   "outputs": [
    {
     "data": {
      "text/plain": [
       "RandomForestClassifier()"
      ]
     },
     "execution_count": 72,
     "metadata": {},
     "output_type": "execute_result"
    }
   ],
   "source": [
    "clf_15 = RandomForestClassifier()\n",
    "clf_15.fit(train_x_15,train_y_15)"
   ]
  },
  {
   "cell_type": "code",
   "execution_count": 73,
   "metadata": {},
   "outputs": [
    {
     "data": {
      "text/plain": [
       "RandomForestClassifier()"
      ]
     },
     "execution_count": 73,
     "metadata": {},
     "output_type": "execute_result"
    }
   ],
   "source": [
    "clf_6 = RandomForestClassifier()\n",
    "clf_6.fit(train_x_6,train_y_6)"
   ]
  },
  {
   "cell_type": "code",
   "execution_count": 74,
   "metadata": {},
   "outputs": [
    {
     "data": {
      "text/plain": [
       "array([2, 0, 1, ..., 1, 0, 1])"
      ]
     },
     "execution_count": 74,
     "metadata": {},
     "output_type": "execute_result"
    }
   ],
   "source": [
    "from sklearn.metrics import classification_report,accuracy_score\n",
    "ypred_10 = clf_10.predict(test_x_10)\n",
    "ypred_10"
   ]
  },
  {
   "cell_type": "code",
   "execution_count": 75,
   "metadata": {},
   "outputs": [
    {
     "data": {
      "text/plain": [
       "RandomForestClassifier()"
      ]
     },
     "execution_count": 75,
     "metadata": {},
     "output_type": "execute_result"
    }
   ],
   "source": [
    "clf_15 = RandomForestClassifier()\n",
    "clf_15.fit(train_x_15,train_y_15)"
   ]
  },
  {
   "cell_type": "code",
   "execution_count": 76,
   "metadata": {},
   "outputs": [],
   "source": [
    "ypred_15 = clf_15.predict(test_x_15)"
   ]
  },
  {
   "cell_type": "code",
   "execution_count": 77,
   "metadata": {},
   "outputs": [
    {
     "data": {
      "text/plain": [
       "RandomForestClassifier()"
      ]
     },
     "execution_count": 77,
     "metadata": {},
     "output_type": "execute_result"
    }
   ],
   "source": [
    "clf_6 = RandomForestClassifier()\n",
    "clf_6.fit(train_x_6,train_y_6)"
   ]
  },
  {
   "cell_type": "code",
   "execution_count": 78,
   "metadata": {},
   "outputs": [],
   "source": [
    "ypred_6 = clf_6.predict(test_x_6)"
   ]
  },
  {
   "cell_type": "code",
   "execution_count": 79,
   "metadata": {},
   "outputs": [
    {
     "name": "stdout",
     "output_type": "stream",
     "text": [
      "              precision    recall  f1-score   support\n",
      "\n",
      "           0       0.99      0.98      0.99     45927\n",
      "           1       0.98      0.99      0.98     67342\n",
      "           2       0.96      0.98      0.97     11656\n",
      "           3       0.79      0.76      0.78       995\n",
      "           4       1.00      0.12      0.21        52\n",
      "\n",
      "    accuracy                           0.98    125972\n",
      "   macro avg       0.95      0.76      0.78    125972\n",
      "weighted avg       0.98      0.98      0.98    125972\n",
      "\n"
     ]
    }
   ],
   "source": [
    "print(classification_report(test_y_10,ypred_10))"
   ]
  },
  {
   "cell_type": "code",
   "execution_count": 80,
   "metadata": {},
   "outputs": [
    {
     "name": "stdout",
     "output_type": "stream",
     "text": [
      "top_10              precision    recall  f1-score   support\n",
      "\n",
      "           0       0.99      0.98      0.99     45927\n",
      "           1       0.98      0.99      0.98     67342\n",
      "           2       0.96      0.98      0.97     11656\n",
      "           3       0.79      0.76      0.78       995\n",
      "           4       1.00      0.12      0.21        52\n",
      "\n",
      "    accuracy                           0.98    125972\n",
      "   macro avg       0.95      0.76      0.78    125972\n",
      "weighted avg       0.98      0.98      0.98    125972\n",
      "\n"
     ]
    }
   ],
   "source": [
    "print(f'top_10{classification_report(test_y_10,ypred_10)}')"
   ]
  },
  {
   "cell_type": "code",
   "execution_count": 81,
   "metadata": {},
   "outputs": [
    {
     "name": "stdout",
     "output_type": "stream",
     "text": [
      "top_15              precision    recall  f1-score   support\n",
      "\n",
      "           0       1.00      1.00      1.00     45927\n",
      "           1       1.00      1.00      1.00     67342\n",
      "           2       1.00      1.00      1.00     11656\n",
      "           3       1.00      0.99      1.00       995\n",
      "           4       0.98      0.98      0.98        52\n",
      "\n",
      "    accuracy                           1.00    125972\n",
      "   macro avg       1.00      0.99      0.99    125972\n",
      "weighted avg       1.00      1.00      1.00    125972\n",
      "\n"
     ]
    }
   ],
   "source": [
    "print(f'top_15{classification_report(test_y_15,ypred_15)}')"
   ]
  },
  {
   "cell_type": "code",
   "execution_count": 82,
   "metadata": {},
   "outputs": [
    {
     "name": "stdout",
     "output_type": "stream",
     "text": [
      "top_6              precision    recall  f1-score   support\n",
      "\n",
      "           0       0.99      0.91      0.95     45927\n",
      "           1       0.88      0.96      0.92     67342\n",
      "           2       0.75      0.61      0.67     11656\n",
      "           3       0.76      0.16      0.26       995\n",
      "           4       0.75      0.06      0.11        52\n",
      "\n",
      "    accuracy                           0.91    125972\n",
      "   macro avg       0.82      0.54      0.58    125972\n",
      "weighted avg       0.91      0.91      0.90    125972\n",
      "\n"
     ]
    }
   ],
   "source": [
    "print(f'top_6{classification_report(test_y_6,ypred_6)}')"
   ]
  },
  {
   "cell_type": "code",
   "execution_count": null,
   "metadata": {},
   "outputs": [],
   "source": []
  }
 ],
 "metadata": {
  "kernelspec": {
   "display_name": "Python 3",
   "language": "python",
   "name": "python3"
  },
  "language_info": {
   "codemirror_mode": {
    "name": "ipython",
    "version": 3
   },
   "file_extension": ".py",
   "mimetype": "text/x-python",
   "name": "python",
   "nbconvert_exporter": "python",
   "pygments_lexer": "ipython3",
   "version": "3.8.5"
  }
 },
 "nbformat": 4,
 "nbformat_minor": 4
}
